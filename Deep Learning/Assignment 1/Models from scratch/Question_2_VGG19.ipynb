{
 "cells": [
  {
   "cell_type": "markdown",
   "id": "2822ca7f",
   "metadata": {},
   "source": [
    "# VGG-19"
   ]
  },
  {
   "cell_type": "markdown",
   "id": "b2cf2aca",
   "metadata": {},
   "source": [
    "### Imports and Device Setup"
   ]
  },
  {
   "cell_type": "code",
   "execution_count": 11,
   "id": "e2a165d0",
   "metadata": {},
   "outputs": [
    {
     "name": "stdout",
     "output_type": "stream",
     "text": [
      "Using device: cuda\n"
     ]
    }
   ],
   "source": [
    "import torch\n",
    "import torch.nn as nn\n",
    "import torch.optim as optim\n",
    "import torchvision\n",
    "import torchvision.transforms as transforms\n",
    "from torch.utils.data import DataLoader\n",
    "import matplotlib.pyplot as plt\n",
    "import numpy as np\n",
    "from sklearn.metrics import confusion_matrix, classification_report, accuracy_score, f1_score\n",
    "import pandas as pd\n",
    "\n",
    "device = torch.device(\"cuda\" if torch.cuda.is_available() else \"cpu\")\n",
    "print(f'Using device: {device}')\n"
   ]
  },
  {
   "cell_type": "markdown",
   "id": "b90ba644",
   "metadata": {},
   "source": [
    "### Data Preprocessing and Augmentation"
   ]
  },
  {
   "cell_type": "code",
   "execution_count": 12,
   "id": "8a5406f5",
   "metadata": {},
   "outputs": [],
   "source": [
    "transform_train = transforms.Compose([\n",
    "    transforms.RandomCrop(32, padding=4),\n",
    "    transforms.RandomHorizontalFlip(),\n",
    "    transforms.ToTensor(),\n",
    "    transforms.Normalize((0.5071, 0.4865, 0.4409), (0.2673, 0.2564, 0.2762))\n",
    "])\n",
    "\n",
    "transform_test = transforms.Compose([\n",
    "    transforms.ToTensor(),\n",
    "    transforms.Normalize((0.5071, 0.4865, 0.4409), (0.2673, 0.2564, 0.2762))\n",
    "])\n"
   ]
  },
  {
   "cell_type": "markdown",
   "id": "be4b42af",
   "metadata": {},
   "source": [
    "### Load CIFAR-100 Dataset"
   ]
  },
  {
   "cell_type": "code",
   "execution_count": 13,
   "id": "f487247a",
   "metadata": {},
   "outputs": [],
   "source": [
    "trainset = torchvision.datasets.CIFAR100(root='./data', train=True, download=True, transform=transform_train)\n",
    "testset = torchvision.datasets.CIFAR100(root='./data', train=False, download=True, transform=transform_test)\n",
    "\n",
    "trainloader = DataLoader(trainset, batch_size=128, shuffle=True, num_workers=2)\n",
    "testloader = DataLoader(testset, batch_size=100, shuffle=False, num_workers=2)\n"
   ]
  },
  {
   "cell_type": "markdown",
   "id": "ec12ad2f",
   "metadata": {},
   "source": [
    "### Define VGG-19 Model"
   ]
  },
  {
   "cell_type": "code",
   "execution_count": 14,
   "id": "80e008be",
   "metadata": {},
   "outputs": [],
   "source": [
    "cfg = {\n",
    "    'E': [64, 64, 'M', 128, 128, 'M', 256, 256, 256, 256, 'M',\n",
    "          512, 512, 512, 512, 'M', 512, 512, 512, 512, 'M']\n",
    "}\n",
    "\n",
    "def make_layers(cfg):\n",
    "    layers = []\n",
    "    in_channels = 3\n",
    "    for v in cfg:\n",
    "        if v == 'M':\n",
    "            layers += [nn.MaxPool2d(kernel_size=2, stride=2)]\n",
    "        else:\n",
    "            conv = nn.Conv2d(in_channels, v, kernel_size=3, padding=1)\n",
    "            layers += [conv, nn.BatchNorm2d(v), nn.ReLU(inplace=True)]\n",
    "            in_channels = v\n",
    "    return nn.Sequential(*layers)\n",
    "\n",
    "class VGG19(nn.Module):\n",
    "    def __init__(self, num_classes=100):\n",
    "        super(VGG19, self).__init__()\n",
    "        self.features = make_layers(cfg['E'])\n",
    "        self.classifier = nn.Sequential(\n",
    "            nn.Linear(512, 4096),\n",
    "            nn.ReLU(True),\n",
    "            nn.Dropout(0.5),\n",
    "            nn.Linear(4096, 4096),\n",
    "            nn.ReLU(True),\n",
    "            nn.Dropout(0.5),\n",
    "            nn.Linear(4096, num_classes)\n",
    "        )\n",
    "\n",
    "    def forward(self, x):\n",
    "        x = self.features(x)\n",
    "        x = torch.flatten(x, 1)\n",
    "        x = self.classifier(x)\n",
    "        return x\n"
   ]
  },
  {
   "cell_type": "markdown",
   "id": "3f0afbf2",
   "metadata": {},
   "source": [
    "### Model Initialization, Loss Function, Optimizer"
   ]
  },
  {
   "cell_type": "code",
   "execution_count": 19,
   "id": "009669cb",
   "metadata": {},
   "outputs": [],
   "source": [
    "model = VGG19().to(device)\n",
    "\n",
    "criterion = nn.CrossEntropyLoss()\n",
    "optimizer = optim.Adam(model.parameters(), lr=0.001)\n"
   ]
  },
  {
   "cell_type": "markdown",
   "id": "63e81b26",
   "metadata": {},
   "source": [
    "### Training and Validation Loop"
   ]
  },
  {
   "cell_type": "code",
   "execution_count": 20,
   "id": "34f23c39",
   "metadata": {},
   "outputs": [
    {
     "name": "stdout",
     "output_type": "stream",
     "text": [
      "Epoch 1: Train Acc=2.38%, Val Acc=3.09%\n",
      "Epoch 2: Train Acc=3.27%, Val Acc=3.93%\n",
      "Epoch 3: Train Acc=3.60%, Val Acc=3.75%\n",
      "Epoch 4: Train Acc=4.09%, Val Acc=4.51%\n",
      "Epoch 5: Train Acc=4.93%, Val Acc=5.47%\n",
      "Epoch 6: Train Acc=6.53%, Val Acc=7.75%\n",
      "Epoch 7: Train Acc=9.15%, Val Acc=9.83%\n",
      "Epoch 8: Train Acc=11.32%, Val Acc=14.75%\n",
      "Epoch 9: Train Acc=13.54%, Val Acc=14.82%\n",
      "Epoch 10: Train Acc=15.72%, Val Acc=18.41%\n",
      "Epoch 11: Train Acc=17.55%, Val Acc=17.02%\n",
      "Epoch 12: Train Acc=19.69%, Val Acc=18.58%\n",
      "Epoch 13: Train Acc=21.53%, Val Acc=21.96%\n",
      "Epoch 14: Train Acc=23.38%, Val Acc=22.92%\n",
      "Epoch 15: Train Acc=25.30%, Val Acc=27.40%\n",
      "Epoch 16: Train Acc=26.89%, Val Acc=28.98%\n",
      "Epoch 17: Train Acc=28.58%, Val Acc=30.82%\n",
      "Epoch 18: Train Acc=30.71%, Val Acc=29.46%\n",
      "Epoch 19: Train Acc=32.71%, Val Acc=33.71%\n",
      "Epoch 20: Train Acc=34.54%, Val Acc=34.49%\n",
      "Epoch 21: Train Acc=36.51%, Val Acc=37.64%\n",
      "Epoch 22: Train Acc=37.66%, Val Acc=35.59%\n",
      "Epoch 23: Train Acc=39.65%, Val Acc=39.54%\n",
      "Epoch 24: Train Acc=41.45%, Val Acc=40.27%\n",
      "Epoch 25: Train Acc=42.62%, Val Acc=42.69%\n",
      "Epoch 26: Train Acc=43.99%, Val Acc=42.88%\n",
      "Epoch 27: Train Acc=45.65%, Val Acc=43.29%\n",
      "Epoch 28: Train Acc=47.21%, Val Acc=46.30%\n",
      "Epoch 29: Train Acc=48.08%, Val Acc=46.39%\n",
      "Epoch 30: Train Acc=49.77%, Val Acc=47.27%\n",
      "Epoch 31: Train Acc=50.51%, Val Acc=47.68%\n",
      "Epoch 32: Train Acc=51.81%, Val Acc=48.77%\n",
      "Epoch 33: Train Acc=53.06%, Val Acc=50.15%\n",
      "Epoch 34: Train Acc=54.50%, Val Acc=50.38%\n",
      "Epoch 35: Train Acc=55.31%, Val Acc=51.29%\n",
      "Epoch 36: Train Acc=56.33%, Val Acc=52.31%\n",
      "Epoch 37: Train Acc=57.22%, Val Acc=51.12%\n",
      "Epoch 38: Train Acc=58.88%, Val Acc=51.91%\n",
      "Epoch 39: Train Acc=59.75%, Val Acc=53.70%\n",
      "Epoch 40: Train Acc=60.39%, Val Acc=52.97%\n",
      "Epoch 41: Train Acc=61.26%, Val Acc=53.95%\n",
      "Epoch 42: Train Acc=62.15%, Val Acc=53.33%\n",
      "Epoch 43: Train Acc=62.82%, Val Acc=54.42%\n",
      "Epoch 44: Train Acc=63.70%, Val Acc=54.71%\n",
      "Epoch 45: Train Acc=64.44%, Val Acc=55.45%\n",
      "Epoch 46: Train Acc=65.38%, Val Acc=55.97%\n",
      "Epoch 47: Train Acc=66.09%, Val Acc=56.81%\n",
      "Epoch 48: Train Acc=66.67%, Val Acc=56.39%\n",
      "Epoch 49: Train Acc=67.44%, Val Acc=55.12%\n",
      "Epoch 50: Train Acc=67.80%, Val Acc=56.14%\n",
      "Epoch 51: Train Acc=68.52%, Val Acc=56.48%\n",
      "Epoch 52: Train Acc=69.29%, Val Acc=58.04%\n",
      "Epoch 53: Train Acc=69.70%, Val Acc=57.79%\n",
      "Epoch 54: Train Acc=70.71%, Val Acc=57.92%\n",
      "Epoch 55: Train Acc=70.80%, Val Acc=57.07%\n",
      "Epoch 56: Train Acc=71.31%, Val Acc=58.53%\n",
      "Epoch 57: Train Acc=72.09%, Val Acc=58.97%\n",
      "Epoch 58: Train Acc=72.66%, Val Acc=58.28%\n",
      "Epoch 59: Train Acc=73.25%, Val Acc=59.01%\n",
      "Epoch 60: Train Acc=73.68%, Val Acc=58.30%\n",
      "Epoch 61: Train Acc=74.38%, Val Acc=60.02%\n",
      "Epoch 62: Train Acc=74.92%, Val Acc=59.68%\n",
      "Epoch 63: Train Acc=74.72%, Val Acc=60.03%\n",
      "Epoch 64: Train Acc=75.87%, Val Acc=59.68%\n",
      "Epoch 65: Train Acc=76.07%, Val Acc=59.96%\n",
      "Epoch 66: Train Acc=76.77%, Val Acc=60.29%\n",
      "Epoch 67: Train Acc=76.72%, Val Acc=60.10%\n",
      "Epoch 68: Train Acc=77.51%, Val Acc=60.91%\n",
      "Epoch 69: Train Acc=77.74%, Val Acc=60.11%\n",
      "Epoch 70: Train Acc=78.43%, Val Acc=60.62%\n",
      "Epoch 71: Train Acc=78.61%, Val Acc=60.10%\n",
      "Epoch 72: Train Acc=77.47%, Val Acc=58.19%\n",
      "Epoch 73: Train Acc=78.21%, Val Acc=59.86%\n",
      "Epoch 74: Train Acc=79.84%, Val Acc=61.67%\n",
      "Epoch 75: Train Acc=80.33%, Val Acc=60.83%\n",
      "Epoch 76: Train Acc=80.76%, Val Acc=60.71%\n",
      "Epoch 77: Train Acc=80.84%, Val Acc=61.42%\n",
      "Epoch 78: Train Acc=81.29%, Val Acc=61.35%\n",
      "Epoch 79: Train Acc=81.54%, Val Acc=60.55%\n",
      "Epoch 80: Train Acc=81.92%, Val Acc=60.77%\n",
      "Epoch 81: Train Acc=81.85%, Val Acc=61.90%\n",
      "Epoch 82: Train Acc=82.63%, Val Acc=61.39%\n",
      "Epoch 83: Train Acc=82.97%, Val Acc=60.10%\n",
      "Epoch 84: Train Acc=82.81%, Val Acc=61.59%\n",
      "Epoch 85: Train Acc=83.32%, Val Acc=62.19%\n",
      "Epoch 86: Train Acc=83.63%, Val Acc=61.19%\n",
      "Epoch 87: Train Acc=83.85%, Val Acc=61.55%\n",
      "Epoch 88: Train Acc=84.19%, Val Acc=61.83%\n",
      "Epoch 89: Train Acc=84.16%, Val Acc=61.94%\n",
      "Epoch 90: Train Acc=84.89%, Val Acc=61.53%\n",
      "Epoch 91: Train Acc=85.10%, Val Acc=61.72%\n",
      "Epoch 92: Train Acc=84.79%, Val Acc=61.99%\n",
      "Epoch 93: Train Acc=85.57%, Val Acc=61.84%\n",
      "Epoch 94: Train Acc=85.99%, Val Acc=61.62%\n",
      "Epoch 95: Train Acc=85.86%, Val Acc=61.80%\n",
      "Epoch 96: Train Acc=85.77%, Val Acc=62.16%\n",
      "Epoch 97: Train Acc=86.22%, Val Acc=62.41%\n",
      "Epoch 98: Train Acc=86.51%, Val Acc=62.37%\n",
      "Epoch 99: Train Acc=86.92%, Val Acc=61.64%\n",
      "Epoch 100: Train Acc=86.86%, Val Acc=61.39%\n",
      "Epoch 101: Train Acc=87.22%, Val Acc=62.35%\n",
      "Epoch 102: Train Acc=87.29%, Val Acc=61.40%\n",
      "Epoch 103: Train Acc=87.38%, Val Acc=62.27%\n",
      "Epoch 104: Train Acc=87.68%, Val Acc=56.64%\n",
      "Epoch 105: Train Acc=86.19%, Val Acc=62.89%\n",
      "Epoch 106: Train Acc=87.85%, Val Acc=62.30%\n",
      "Epoch 107: Train Acc=88.43%, Val Acc=61.84%\n",
      "Epoch 108: Train Acc=88.25%, Val Acc=63.56%\n",
      "Epoch 109: Train Acc=88.84%, Val Acc=62.28%\n",
      "Epoch 110: Train Acc=88.72%, Val Acc=62.34%\n",
      "Epoch 111: Train Acc=89.25%, Val Acc=63.01%\n",
      "Epoch 112: Train Acc=89.28%, Val Acc=62.59%\n",
      "Epoch 113: Train Acc=89.26%, Val Acc=62.32%\n",
      "Epoch 114: Train Acc=89.30%, Val Acc=62.83%\n",
      "Epoch 115: Train Acc=89.39%, Val Acc=63.10%\n",
      "Epoch 116: Train Acc=89.81%, Val Acc=63.53%\n",
      "Epoch 117: Train Acc=89.86%, Val Acc=63.12%\n",
      "Epoch 118: Train Acc=89.76%, Val Acc=62.71%\n",
      "Epoch 119: Train Acc=89.92%, Val Acc=63.03%\n",
      "Epoch 120: Train Acc=90.28%, Val Acc=62.37%\n",
      "Epoch 121: Train Acc=90.36%, Val Acc=63.23%\n",
      "Epoch 122: Train Acc=90.67%, Val Acc=63.22%\n",
      "Epoch 123: Train Acc=90.88%, Val Acc=63.02%\n",
      "Epoch 124: Train Acc=90.75%, Val Acc=63.48%\n",
      "Epoch 125: Train Acc=90.64%, Val Acc=63.18%\n",
      "Epoch 126: Train Acc=91.19%, Val Acc=62.54%\n",
      "Epoch 127: Train Acc=90.81%, Val Acc=63.38%\n",
      "Epoch 128: Train Acc=91.22%, Val Acc=62.09%\n",
      "Epoch 129: Train Acc=89.03%, Val Acc=63.21%\n",
      "Epoch 130: Train Acc=91.34%, Val Acc=63.52%\n",
      "Epoch 131: Train Acc=91.66%, Val Acc=63.46%\n",
      "Epoch 132: Train Acc=91.82%, Val Acc=63.14%\n",
      "Epoch 133: Train Acc=91.70%, Val Acc=63.75%\n",
      "Epoch 134: Train Acc=91.77%, Val Acc=63.30%\n",
      "Epoch 135: Train Acc=92.08%, Val Acc=63.84%\n",
      "Epoch 136: Train Acc=92.22%, Val Acc=63.40%\n",
      "Epoch 137: Train Acc=91.99%, Val Acc=63.14%\n",
      "Epoch 138: Train Acc=92.35%, Val Acc=63.17%\n",
      "Epoch 139: Train Acc=92.46%, Val Acc=63.57%\n",
      "Epoch 140: Train Acc=92.57%, Val Acc=63.59%\n",
      "Epoch 141: Train Acc=92.42%, Val Acc=63.17%\n",
      "Epoch 142: Train Acc=92.10%, Val Acc=63.29%\n",
      "Epoch 143: Train Acc=92.23%, Val Acc=63.52%\n",
      "Epoch 144: Train Acc=92.71%, Val Acc=64.06%\n",
      "Epoch 145: Train Acc=92.83%, Val Acc=62.76%\n",
      "Epoch 146: Train Acc=92.90%, Val Acc=62.96%\n",
      "Epoch 147: Train Acc=92.79%, Val Acc=63.65%\n",
      "Epoch 148: Train Acc=93.09%, Val Acc=62.81%\n",
      "Epoch 149: Train Acc=93.18%, Val Acc=62.92%\n",
      "Epoch 150: Train Acc=92.93%, Val Acc=63.87%\n"
     ]
    }
   ],
   "source": [
    "train_loss, val_loss = [], []\n",
    "train_acc, val_acc = [], []\n",
    "\n",
    "for epoch in range(150):\n",
    "    model.train()\n",
    "    running_loss = 0\n",
    "    correct, total = 0, 0\n",
    "    for images, labels in trainloader:\n",
    "        images, labels = images.to(device), labels.to(device)\n",
    "        optimizer.zero_grad()\n",
    "        outputs = model(images)\n",
    "        loss = criterion(outputs, labels)\n",
    "        loss.backward()\n",
    "        optimizer.step()\n",
    "        running_loss += loss.item()\n",
    "        _, predicted = torch.max(outputs.data, 1)\n",
    "        total += labels.size(0)\n",
    "        correct += (predicted == labels).sum().item()\n",
    "\n",
    "    train_loss.append(running_loss / len(trainloader))\n",
    "    train_acc.append(100 * correct / total)\n",
    "\n",
    "    model.eval()\n",
    "    running_loss = 0\n",
    "    correct, total = 0, 0\n",
    "    with torch.no_grad():\n",
    "        for images, labels in testloader:\n",
    "            images, labels = images.to(device), labels.to(device)\n",
    "            outputs = model(images)\n",
    "            loss = criterion(outputs, labels)\n",
    "            running_loss += loss.item()\n",
    "            _, predicted = torch.max(outputs.data, 1)\n",
    "            total += labels.size(0)\n",
    "            correct += (predicted == labels).sum().item()\n",
    "\n",
    "    val_loss.append(running_loss / len(testloader))\n",
    "    val_acc.append(100 * correct / total)\n",
    "\n",
    "    print(f\"Epoch {epoch+1}: Train Acc={train_acc[-1]:.2f}%, Val Acc={val_acc[-1]:.2f}%\")\n"
   ]
  },
  {
   "cell_type": "markdown",
   "id": "ba2740b9",
   "metadata": {},
   "source": [
    "### Plot Loss and Accuracy Curves"
   ]
  },
  {
   "cell_type": "code",
   "execution_count": 21,
   "id": "8024767d",
   "metadata": {},
   "outputs": [
    {
     "data": {
      "image/png": "[encoded data removed]",
      "text/plain": [
       "<Figure size 640x480 with 1 Axes>"
      ]
     },
     "metadata": {},
     "output_type": "display_data"
    },
    {
     "data": {
      "image/png": "[encoded data removed]",
      "text/plain": [
       "<Figure size 640x480 with 1 Axes>"
      ]
     },
     "metadata": {},
     "output_type": "display_data"
    }
   ],
   "source": [
    "plt.figure()\n",
    "plt.plot(train_loss, label='Train Loss')\n",
    "plt.plot(val_loss, label='Val Loss')\n",
    "plt.legend()\n",
    "plt.title(\"Loss per Epoch\")\n",
    "plt.show()\n",
    "\n",
    "plt.figure()\n",
    "plt.plot(train_acc, label='Train Accuracy')\n",
    "plt.plot(val_acc, label='Val Accuracy')\n",
    "plt.legend()\n",
    "plt.title(\"Accuracy per Epoch\")\n",
    "plt.show()\n"
   ]
  },
  {
   "cell_type": "markdown",
   "id": "b761d409",
   "metadata": {},
   "source": [
    "### Visualize Convolutional Filters (Before & After Training)"
   ]
  },
  {
   "cell_type": "code",
   "execution_count": 22,
   "id": "245030a3",
   "metadata": {},
   "outputs": [
    {
     "data": {
      "image/png": "[encoded data removed]",
      "text/plain": [
       "<Figure size 1200x600 with 32 Axes>"
      ]
     },
     "metadata": {},
     "output_type": "display_data"
    },
    {
     "name": "stderr",
     "output_type": "stream",
     "text": [
      "Exception ignored in: <function _MultiProcessingDataLoaderIter.__del__ at 0x000001BFFF79EA70>\n",
      "Traceback (most recent call last):\n",
      "  File \"c:\\Users\\House\\AppData\\Local\\Programs\\Python\\Python310\\lib\\site-packages\\torch\\utils\\data\\dataloader.py\", line 1663, in __del__\n",
      "    self._shutdown_workers()\n",
      "  File \"c:\\Users\\House\\AppData\\Local\\Programs\\Python\\Python310\\lib\\site-packages\\torch\\utils\\data\\dataloader.py\", line 1621, in _shutdown_workers\n",
      "    if self._persistent_workers or self._workers_status[worker_id]:\n",
      "AttributeError: '_MultiProcessingDataLoaderIter' object has no attribute '_workers_status'\n"
     ]
    },
    {
     "data": {
      "image/png": "[encoded data removed]",
      "text/plain": [
       "<Figure size 1200x600 with 32 Axes>"
      ]
     },
     "metadata": {},
     "output_type": "display_data"
    }
   ],
   "source": [
    "def visualize_filters(weights, title):\n",
    "    weights = weights.cpu().detach().numpy()\n",
    "    fig, axes = plt.subplots(4, 8, figsize=(12, 6))\n",
    "    for i, ax in enumerate(axes.flat):\n",
    "        if i < weights.shape[0]:\n",
    "            img = weights[i, 0]\n",
    "            ax.imshow(img, cmap='gray')\n",
    "            ax.axis('off')\n",
    "    plt.suptitle(title)\n",
    "    plt.show()\n",
    "\n",
    "initial_weights = model.features[0].weight.clone()\n",
    "visualize_filters(initial_weights, \"Initial Conv1 Filters\")\n",
    "visualize_filters(model.features[0].weight, \"Trained Conv1 Filters\")\n"
   ]
  },
  {
   "cell_type": "markdown",
   "id": "f2e1271b",
   "metadata": {},
   "source": [
    "### Evaluate Model Performance on Test Set"
   ]
  },
  {
   "cell_type": "code",
   "execution_count": 23,
   "id": "3373cb95",
   "metadata": {},
   "outputs": [],
   "source": [
    "model.eval()\n",
    "all_preds, all_labels = [], []\n",
    "\n",
    "with torch.no_grad():\n",
    "    for images, labels in testloader:\n",
    "        images, labels = images.to(device), labels.to(device)\n",
    "        outputs = model(images)\n",
    "        _, preds = torch.max(outputs, 1)\n",
    "        all_preds.extend(preds.cpu().numpy())\n",
    "        all_labels.extend(labels.cpu().numpy())\n",
    "\n",
    "cm = confusion_matrix(all_labels, all_preds)\n",
    "report = classification_report(all_labels, all_preds, output_dict=True)\n"
   ]
  },
  {
   "cell_type": "markdown",
   "id": "52a215ab",
   "metadata": {},
   "source": [
    "### Evaluation Metrics and Summary Table"
   ]
  },
  {
   "cell_type": "code",
   "execution_count": 24,
   "id": "1310bbfb",
   "metadata": {},
   "outputs": [
    {
     "name": "stdout",
     "output_type": "stream",
     "text": [
      "            Metric          Value\n",
      "0   True Positives    6387.000000\n",
      "1  False Positives    3613.000000\n",
      "2  False Negatives    3613.000000\n",
      "3   True Negatives  354074.000000\n",
      "4         Accuracy       0.638700\n",
      "5         F1-Score       0.640625\n"
     ]
    }
   ],
   "source": [
    "TP = np.diag(cm).sum()\n",
    "FP = cm.sum(axis=0) - np.diag(cm)\n",
    "FN = cm.sum(axis=1) - np.diag(cm)\n",
    "TN = cm.sum() - (FP + FN + TP)\n",
    "\n",
    "metrics_table = pd.DataFrame({\n",
    "    'Metric': ['True Positives', 'False Positives', 'False Negatives', 'True Negatives', 'Accuracy', 'F1-Score'],\n",
    "    'Value': [\n",
    "        TP,\n",
    "        FP.sum(),\n",
    "        FN.sum(),\n",
    "        TN.sum(),\n",
    "        accuracy_score(all_labels, all_preds),\n",
    "        f1_score(all_labels, all_preds, average='macro')\n",
    "    ]\n",
    "})\n",
    "print(metrics_table)\n"
   ]
  },
  {
   "cell_type": "markdown",
   "id": "519d79b0",
   "metadata": {},
   "source": []
  }
 ],
 "metadata": {
  "kernelspec": {
   "display_name": "Python 3",
   "language": "python",
   "name": "python3"
  },
  "language_info": {
   "codemirror_mode": {
    "name": "ipython",
    "version": 3
   },
   "file_extension": ".py",
   "mimetype": "text/x-python",
   "name": "python",
   "nbconvert_exporter": "python",
   "pygments_lexer": "ipython3",
   "version": "3.10.11"
  }
 },
 "nbformat": 4,
 "nbformat_minor": 5
}
