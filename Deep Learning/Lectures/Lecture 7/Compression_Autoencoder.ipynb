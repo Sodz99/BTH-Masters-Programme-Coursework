{
 "cells": [
  {
   "cell_type": "code",
   "execution_count": 38,
   "id": "1f6799cf",
   "metadata": {},
   "outputs": [],
   "source": [
    "#COMPRESSION\n",
    "\n",
    "import keras\n",
    "from keras import layers\n",
    "\n",
    "# This is the size of our encoded representations\n",
    "encoding_dim = 32  # 32 floats -> compression of factor 24.5, assuming the input is 784 floats\n",
    "\n",
    "# This is our input image\n",
    "input_img = keras.Input(shape=(784,))\n",
    "# \"encoded\" is the encoded representation of the input\n",
    "encoded = layers.Dense(encoding_dim, activation='relu')(input_img)\n",
    "# \"decoded\" is the lossy reconstruction of the input\n",
    "decoded = layers.Dense(784, activation='sigmoid')(encoded)\n",
    "\n",
    "# This model maps an input to its reconstruction\n",
    "autoencoder = keras.Model(input_img, decoded)"
   ]
  },
  {
   "cell_type": "code",
   "execution_count": 39,
   "id": "0022ed3d",
   "metadata": {},
   "outputs": [],
   "source": [
    "# This model maps an input to its encoded representation\n",
    "encoder = keras.Model(input_img, encoded)"
   ]
  },
  {
   "cell_type": "code",
   "execution_count": 40,
   "id": "ab63fd7e",
   "metadata": {},
   "outputs": [],
   "source": [
    "# This is our encoded (32-dimensional) input\n",
    "encoded_input = keras.Input(shape=(encoding_dim,))\n",
    "# Retrieve the last layer of the autoencoder model\n",
    "decoder_layer = autoencoder.layers[-1]\n",
    "# Create the decoder model\n",
    "decoder = keras.Model(encoded_input, decoder_layer(encoded_input))"
   ]
  },
  {
   "cell_type": "code",
   "execution_count": 41,
   "id": "3b15cbc4",
   "metadata": {},
   "outputs": [],
   "source": [
    "autoencoder.compile(optimizer='adam', loss='binary_crossentropy')"
   ]
  },
  {
   "cell_type": "code",
   "execution_count": 42,
   "id": "d1373da2",
   "metadata": {},
   "outputs": [],
   "source": [
    "from keras.datasets import mnist\n",
    "import numpy as np\n",
    "(x_train, _), (x_test, _) = mnist.load_data()"
   ]
  },
  {
   "cell_type": "code",
   "execution_count": 43,
   "id": "e74e0dab",
   "metadata": {},
   "outputs": [
    {
     "name": "stdout",
     "output_type": "stream",
     "text": [
      "(60000, 784)\n",
      "(10000, 784)\n"
     ]
    }
   ],
   "source": [
    "x_train = x_train.astype('float32') / 255.\n",
    "x_test = x_test.astype('float32') / 255.\n",
    "x_train = x_train.reshape((len(x_train), np.prod(x_train.shape[1:])))\n",
    "x_test = x_test.reshape((len(x_test), np.prod(x_test.shape[1:])))\n",
    "print(x_train.shape)\n",
    "print(x_test.shape)"
   ]
  },
  {
   "cell_type": "code",
   "execution_count": 44,
   "id": "59b752a0",
   "metadata": {},
   "outputs": [
    {
     "name": "stdout",
     "output_type": "stream",
     "text": [
      "Train on 60000 samples, validate on 10000 samples\n",
      "Epoch 1/50\n",
      "60000/60000 [==============================] - 3s 55us/step - loss: 0.2721 - val_loss: 0.1872\n",
      "Epoch 2/50\n",
      "60000/60000 [==============================] - 3s 43us/step - loss: 0.1705 - val_loss: 0.1544\n",
      "Epoch 3/50\n",
      "60000/60000 [==============================] - 3s 42us/step - loss: 0.1446 - val_loss: 0.1339\n",
      "Epoch 4/50\n",
      "60000/60000 [==============================] - 3s 42us/step - loss: 0.1289 - val_loss: 0.1220\n",
      "Epoch 5/50\n",
      "60000/60000 [==============================] - 3s 43us/step - loss: 0.1188 - val_loss: 0.1135\n",
      "Epoch 6/50\n",
      "60000/60000 [==============================] - 3s 44us/step - loss: 0.1114 - val_loss: 0.1071\n",
      "Epoch 7/50\n",
      "60000/60000 [==============================] - 3s 43us/step - loss: 0.1060 - val_loss: 0.1027\n",
      "Epoch 8/50\n",
      "60000/60000 [==============================] - 3s 45us/step - loss: 0.1020 - val_loss: 0.0992\n",
      "Epoch 9/50\n",
      "60000/60000 [==============================] - 3s 45us/step - loss: 0.0993 - val_loss: 0.0970\n",
      "Epoch 10/50\n",
      "60000/60000 [==============================] - 3s 49us/step - loss: 0.0974 - val_loss: 0.0954\n",
      "Epoch 11/50\n",
      "60000/60000 [==============================] - 3s 47us/step - loss: 0.0962 - val_loss: 0.0945\n",
      "Epoch 12/50\n",
      "60000/60000 [==============================] - 3s 46us/step - loss: 0.0954 - val_loss: 0.0938\n",
      "Epoch 13/50\n",
      "60000/60000 [==============================] - 3s 47us/step - loss: 0.0948 - val_loss: 0.0934\n",
      "Epoch 14/50\n",
      "60000/60000 [==============================] - 3s 46us/step - loss: 0.0944 - val_loss: 0.0930\n",
      "Epoch 15/50\n",
      "60000/60000 [==============================] - 3s 45us/step - loss: 0.0942 - val_loss: 0.0928\n",
      "Epoch 16/50\n",
      "60000/60000 [==============================] - 3s 47us/step - loss: 0.0940 - val_loss: 0.0926\n",
      "Epoch 17/50\n",
      "60000/60000 [==============================] - 3s 46us/step - loss: 0.0938 - val_loss: 0.0925\n",
      "Epoch 18/50\n",
      "60000/60000 [==============================] - 4s 62us/step - loss: 0.0937 - val_loss: 0.0924\n",
      "Epoch 19/50\n",
      "60000/60000 [==============================] - 3s 46us/step - loss: 0.0936 - val_loss: 0.0922\n",
      "Epoch 20/50\n",
      "60000/60000 [==============================] - 3s 46us/step - loss: 0.0935 - val_loss: 0.0923\n",
      "Epoch 21/50\n",
      "60000/60000 [==============================] - 3s 44us/step - loss: 0.0934 - val_loss: 0.0922\n",
      "Epoch 22/50\n",
      "60000/60000 [==============================] - 3s 45us/step - loss: 0.0933 - val_loss: 0.0920\n",
      "Epoch 23/50\n",
      "60000/60000 [==============================] - 3s 45us/step - loss: 0.0932 - val_loss: 0.0920\n",
      "Epoch 24/50\n",
      "60000/60000 [==============================] - 3s 45us/step - loss: 0.0932 - val_loss: 0.0920\n",
      "Epoch 25/50\n",
      "60000/60000 [==============================] - 3s 46us/step - loss: 0.0931 - val_loss: 0.0919\n",
      "Epoch 26/50\n",
      "60000/60000 [==============================] - 3s 46us/step - loss: 0.0931 - val_loss: 0.0919\n",
      "Epoch 27/50\n",
      "60000/60000 [==============================] - 3s 45us/step - loss: 0.0931 - val_loss: 0.0918\n",
      "Epoch 28/50\n",
      "60000/60000 [==============================] - 3s 46us/step - loss: 0.0930 - val_loss: 0.0919\n",
      "Epoch 29/50\n",
      "60000/60000 [==============================] - 3s 47us/step - loss: 0.0930 - val_loss: 0.0919\n",
      "Epoch 30/50\n",
      "60000/60000 [==============================] - 3s 46us/step - loss: 0.0930 - val_loss: 0.0918\n",
      "Epoch 31/50\n",
      "60000/60000 [==============================] - 3s 47us/step - loss: 0.0929 - val_loss: 0.0918\n",
      "Epoch 32/50\n",
      "60000/60000 [==============================] - 3s 49us/step - loss: 0.0929 - val_loss: 0.0917\n",
      "Epoch 33/50\n",
      "60000/60000 [==============================] - 3s 52us/step - loss: 0.0929 - val_loss: 0.0917\n",
      "Epoch 34/50\n",
      "60000/60000 [==============================] - 3s 49us/step - loss: 0.0929 - val_loss: 0.0917\n",
      "Epoch 35/50\n",
      "60000/60000 [==============================] - 3s 53us/step - loss: 0.0928 - val_loss: 0.0917\n",
      "Epoch 36/50\n",
      "60000/60000 [==============================] - 3s 51us/step - loss: 0.0928 - val_loss: 0.0917\n",
      "Epoch 37/50\n",
      "60000/60000 [==============================] - 3s 56us/step - loss: 0.0928 - val_loss: 0.0917\n",
      "Epoch 38/50\n",
      "60000/60000 [==============================] - 3s 54us/step - loss: 0.0928 - val_loss: 0.0916\n",
      "Epoch 39/50\n",
      "60000/60000 [==============================] - 3s 52us/step - loss: 0.0928 - val_loss: 0.0916\n",
      "Epoch 40/50\n",
      "60000/60000 [==============================] - 3s 53us/step - loss: 0.0927 - val_loss: 0.0916\n",
      "Epoch 41/50\n",
      "60000/60000 [==============================] - 3s 54us/step - loss: 0.0927 - val_loss: 0.0917\n",
      "Epoch 42/50\n",
      "60000/60000 [==============================] - 3s 51us/step - loss: 0.0927 - val_loss: 0.0916\n",
      "Epoch 43/50\n",
      "60000/60000 [==============================] - 3s 54us/step - loss: 0.0927 - val_loss: 0.0915\n",
      "Epoch 44/50\n",
      "60000/60000 [==============================] - 3s 52us/step - loss: 0.0927 - val_loss: 0.0916\n",
      "Epoch 45/50\n",
      "60000/60000 [==============================] - 3s 52us/step - loss: 0.0927 - val_loss: 0.0916\n",
      "Epoch 46/50\n",
      "60000/60000 [==============================] - 3s 51us/step - loss: 0.0927 - val_loss: 0.0916\n",
      "Epoch 47/50\n",
      "60000/60000 [==============================] - 3s 52us/step - loss: 0.0927 - val_loss: 0.0915\n",
      "Epoch 48/50\n",
      "60000/60000 [==============================] - 3s 51us/step - loss: 0.0927 - val_loss: 0.0916\n",
      "Epoch 49/50\n",
      "60000/60000 [==============================] - 3s 55us/step - loss: 0.0926 - val_loss: 0.0916\n",
      "Epoch 50/50\n",
      "60000/60000 [==============================] - 4s 59us/step - loss: 0.0926 - val_loss: 0.0917\n"
     ]
    },
    {
     "data": {
      "text/plain": [
       "<keras.callbacks.History at 0x16cf49515f8>"
      ]
     },
     "execution_count": 44,
     "metadata": {},
     "output_type": "execute_result"
    }
   ],
   "source": [
    "autoencoder.fit(x_train, x_train,\n",
    "                epochs=50,\n",
    "                batch_size=256,\n",
    "                shuffle=True,\n",
    "                validation_data=(x_test, x_test))"
   ]
  },
  {
   "cell_type": "code",
   "execution_count": 45,
   "id": "991f8bfa",
   "metadata": {},
   "outputs": [],
   "source": [
    "# Encode and decode some digits\n",
    "# Note that we take them from the *test* set\n",
    "encoded_imgs = encoder.predict(x_test)\n",
    "decoded_imgs = decoder.predict(encoded_imgs)"
   ]
  },
  {
   "cell_type": "code",
   "execution_count": 46,
   "id": "45c91ceb",
   "metadata": {},
   "outputs": [
    {
     "data": {
      "image/png": "[encoded data removed]",
      "text/plain": [
       "<Figure size 1440x288 with 20 Axes>"
      ]
     },
     "metadata": {
      "needs_background": "light"
     },
     "output_type": "display_data"
    }
   ],
   "source": [
    "# Use Matplotlib (don't ask)\n",
    "import matplotlib.pyplot as plt\n",
    "\n",
    "n = 10  # How many digits we will display\n",
    "plt.figure(figsize=(20, 4))\n",
    "for i in range(n):\n",
    "    # Display original\n",
    "    ax = plt.subplot(2, n, i + 1)\n",
    "    plt.imshow(x_test[i].reshape(28, 28))\n",
    "    plt.gray()\n",
    "    ax.get_xaxis().set_visible(False)\n",
    "    ax.get_yaxis().set_visible(False)\n",
    "\n",
    "    # Display reconstruction\n",
    "    ax = plt.subplot(2, n, i + 1 + n)\n",
    "    plt.imshow(decoded_imgs[i].reshape(28, 28))\n",
    "    plt.gray()\n",
    "    ax.get_xaxis().set_visible(False)\n",
    "    ax.get_yaxis().set_visible(False)\n",
    "plt.show()"
   ]
  },
  {
   "cell_type": "code",
   "execution_count": null,
   "id": "cad21a7f",
   "metadata": {
    "collapsed": true
   },
   "outputs": [],
   "source": []
  }
 ],
 "metadata": {
  "kernelspec": {
   "display_name": "Python 3",
   "language": "python",
   "name": "python3"
  },
  "language_info": {
   "codemirror_mode": {
    "name": "ipython",
    "version": 3
   },
   "file_extension": ".py",
   "mimetype": "text/x-python",
   "name": "python",
   "nbconvert_exporter": "python",
   "pygments_lexer": "ipython3",
   "version": "3.6.8"
  }
 },
 "nbformat": 4,
 "nbformat_minor": 5
}
