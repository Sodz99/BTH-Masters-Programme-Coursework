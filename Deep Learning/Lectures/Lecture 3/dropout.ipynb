{
 "cells": [
  {
   "cell_type": "code",
   "execution_count": 7,
   "id": "2346bac4",
   "metadata": {},
   "outputs": [
    {
     "name": "stdout",
     "output_type": "stream",
     "text": [
      "[[0.         0.         0.        ]\n",
      " [0.         0.         0.        ]\n",
      " [0.         0.         1.12875402]\n",
      " [0.         0.         1.59666881]\n",
      " [0.         0.         0.        ]\n",
      " [0.         0.         0.        ]\n",
      " [0.         0.         0.        ]\n",
      " [0.         0.         0.        ]\n",
      " [3.61396188 0.         0.        ]\n",
      " [4.55944626 0.         0.39859551]]\n"
     ]
    }
   ],
   "source": [
    "import numpy as np\n",
    "\n",
    "def forward_pass_with_dropout(X, W, b, dropout_rate=0.5):\n",
    "    \"\"\"\n",
    "    Performs a forward pass through a neural network layer with dropout.\n",
    "    \n",
    "    :param X: Input data, numpy array of shape (n_samples, n_features)\n",
    "    :param W: Weights, numpy array of shape (n_features, n_units)\n",
    "    :param b: Biases, numpy array of shape (n_units,)\n",
    "    :param dropout_rate: The fraction of neurons to drop out during training\n",
    "    :return: Activations after the layer, with dropout applied\n",
    "    \"\"\"\n",
    "    # Compute the linear part of the forward pass\n",
    "    Z = np.dot(X, W) + b\n",
    "    \n",
    "    # Apply a ReLU activation function (just as an example)\n",
    "    A = np.maximum(0, Z)\n",
    "    \n",
    "    # Apply dropout\n",
    "    # Create a mask indicating which neurons to keep\n",
    "    keep_prob = 1 - dropout_rate\n",
    "    mask = np.random.rand(*A.shape) < keep_prob\n",
    "    \n",
    "    # Apply the mask to the activations\n",
    "    A_dropout = A * mask\n",
    "    \n",
    "    # Scale the activations by the keep probability to maintain expected value\n",
    "    A_dropout /= keep_prob\n",
    "    \n",
    "    return A_dropout\n",
    "\n",
    "# Example usage\n",
    "np.random.seed(0)\n",
    "X = np.random.randn(10, 5)  # 10 samples, 5 features\n",
    "W = np.random.randn(5, 3)   # 5 input features, 3 output neurons\n",
    "b = np.random.randn(3)      # 3 output neurons\n",
    "\n",
    "# Apply forward pass with dropout\n",
    "A_dropout = forward_pass_with_dropout(X, W, b, dropout_rate=0.5)\n",
    "print(A_dropout)\n"
   ]
  },
  {
   "cell_type": "code",
   "execution_count": null,
   "id": "c1cb3c72",
   "metadata": {},
   "outputs": [],
   "source": []
  }
 ],
 "metadata": {
  "kernelspec": {
   "display_name": "Python 3",
   "language": "python",
   "name": "python3"
  },
  "language_info": {
   "codemirror_mode": {
    "name": "ipython",
    "version": 3
   },
   "file_extension": ".py",
   "mimetype": "text/x-python",
   "name": "python",
   "nbconvert_exporter": "python",
   "pygments_lexer": "ipython3",
   "version": "3.6.8"
  }
 },
 "nbformat": 4,
 "nbformat_minor": 5
}
