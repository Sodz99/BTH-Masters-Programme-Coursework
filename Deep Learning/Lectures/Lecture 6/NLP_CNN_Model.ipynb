{
 "cells": [
  {
   "cell_type": "markdown",
   "id": "6481093d",
   "metadata": {},
   "source": [
    "# Yelp Restaurant Reviews Data\n",
    "\n",
    "This dataset consists of 500 positive and 500 negative reviews of some specific restaurant from yelp.\n",
    "\n",
    "Data can be loaded with a couple of parameters:\n",
    "\n",
    "    `names` to give the data column headers since it doesn’t have any. \n",
    "    `delimeter` to indicate that it’s tab-separated.\n",
    "    `engine` to define the parsing engine as Python.\n",
    "    `quoting` to determine the quoting behavior. \n",
    "\n",
    "The quoting parameter in pd.read_csv() specifies how to handle the quotation marks around text fields. It accepts several options:\n",
    "\n",
    "    \n",
    "    1: Quotes are used for fields that contain special characters, but they are not included in the data.\n",
    "    2: Quotes are included in the data.\n",
    "    3: Completely ignore quotes, treating them as any other character.\n",
    "   "
   ]
  },
  {
   "cell_type": "code",
   "execution_count": 1,
   "id": "ea1f9b2b",
   "metadata": {},
   "outputs": [
    {
     "name": "stderr",
     "output_type": "stream",
     "text": [
      "C:\\Users\\amiry\\anaconda3\\lib\\site-packages\\numpy\\_distributor_init.py:30: UserWarning: loaded more than 1 DLL from .libs:\n",
      "C:\\Users\\amiry\\anaconda3\\lib\\site-packages\\numpy\\.libs\\libopenblas.GK7GX5KEQ4F6UYO3P26ULGBQYHGQO7J4.gfortran-win_amd64.dll\n",
      "C:\\Users\\amiry\\anaconda3\\lib\\site-packages\\numpy\\.libs\\libopenblas64__v0.3.23-gcc_10_3_0.dll\n",
      "  warnings.warn(\"loaded more than 1 DLL from .libs:\"\n"
     ]
    }
   ],
   "source": [
    "import pandas as pd\n",
    "df = pd.read_csv('yelp_labelled.txt', delimiter = '\\t', engine='python', quoting = 3,names=['review','status'])"
   ]
  },
  {
   "cell_type": "code",
   "execution_count": 2,
   "id": "0afa9f0f",
   "metadata": {},
   "outputs": [
    {
     "data": {
      "text/html": [
       "<div>\n",
       "<style scoped>\n",
       "    .dataframe tbody tr th:only-of-type {\n",
       "        vertical-align: middle;\n",
       "    }\n",
       "\n",
       "    .dataframe tbody tr th {\n",
       "        vertical-align: top;\n",
       "    }\n",
       "\n",
       "    .dataframe thead th {\n",
       "        text-align: right;\n",
       "    }\n",
       "</style>\n",
       "<table border=\"1\" class=\"dataframe\">\n",
       "  <thead>\n",
       "    <tr style=\"text-align: right;\">\n",
       "      <th></th>\n",
       "      <th>review</th>\n",
       "      <th>status</th>\n",
       "    </tr>\n",
       "  </thead>\n",
       "  <tbody>\n",
       "    <tr>\n",
       "      <th>0</th>\n",
       "      <td>Wow... Loved this place.</td>\n",
       "      <td>1</td>\n",
       "    </tr>\n",
       "    <tr>\n",
       "      <th>1</th>\n",
       "      <td>Crust is not good.</td>\n",
       "      <td>0</td>\n",
       "    </tr>\n",
       "    <tr>\n",
       "      <th>2</th>\n",
       "      <td>Not tasty and the texture was just nasty.</td>\n",
       "      <td>0</td>\n",
       "    </tr>\n",
       "    <tr>\n",
       "      <th>3</th>\n",
       "      <td>Stopped by during the late May bank holiday of...</td>\n",
       "      <td>1</td>\n",
       "    </tr>\n",
       "    <tr>\n",
       "      <th>4</th>\n",
       "      <td>The selection on the menu was great and so wer...</td>\n",
       "      <td>1</td>\n",
       "    </tr>\n",
       "  </tbody>\n",
       "</table>\n",
       "</div>"
      ],
      "text/plain": [
       "                                              review  status\n",
       "0                           Wow... Loved this place.       1\n",
       "1                                 Crust is not good.       0\n",
       "2          Not tasty and the texture was just nasty.       0\n",
       "3  Stopped by during the late May bank holiday of...       1\n",
       "4  The selection on the menu was great and so wer...       1"
      ]
     },
     "execution_count": 2,
     "metadata": {},
     "output_type": "execute_result"
    }
   ],
   "source": [
    "df.head(5)"
   ]
  },
  {
   "cell_type": "markdown",
   "id": "13b5d8fb",
   "metadata": {},
   "source": [
    "# Cleaning the Dataset\n",
    "Let’s now use the `re` module to clean this dataset. The objective here is to remove everything from the reviews but letters. This will involve removing all punctuation marks such as commas, question marks, etc. The `sub` function from the `re` module can be used to replace the punctuation marks. After removing the punctuation marks, convert all the reviews to lower case. "
   ]
  },
  {
   "cell_type": "code",
   "execution_count": 3,
   "id": "e12d3033",
   "metadata": {},
   "outputs": [],
   "source": [
    "import re\n",
    "def clean_data(review):\n",
    "    review = re.sub('[^a-zA-Z]', ' ',review)\n",
    "    review = review.lower()\n",
    "    return review"
   ]
  },
  {
   "cell_type": "markdown",
   "id": "f7819a2b",
   "metadata": {},
   "source": [
    "Let’s now apply this function to the reviews. "
   ]
  },
  {
   "cell_type": "code",
   "execution_count": 4,
   "id": "36c81a9d",
   "metadata": {},
   "outputs": [],
   "source": [
    "df['review'] = df['review'].apply(clean_data)"
   ]
  },
  {
   "cell_type": "code",
   "execution_count": 5,
   "id": "c3499ae1",
   "metadata": {},
   "outputs": [
    {
     "data": {
      "text/html": [
       "<div>\n",
       "<style scoped>\n",
       "    .dataframe tbody tr th:only-of-type {\n",
       "        vertical-align: middle;\n",
       "    }\n",
       "\n",
       "    .dataframe tbody tr th {\n",
       "        vertical-align: top;\n",
       "    }\n",
       "\n",
       "    .dataframe thead th {\n",
       "        text-align: right;\n",
       "    }\n",
       "</style>\n",
       "<table border=\"1\" class=\"dataframe\">\n",
       "  <thead>\n",
       "    <tr style=\"text-align: right;\">\n",
       "      <th></th>\n",
       "      <th>review</th>\n",
       "      <th>status</th>\n",
       "    </tr>\n",
       "  </thead>\n",
       "  <tbody>\n",
       "    <tr>\n",
       "      <th>0</th>\n",
       "      <td>wow    loved this place</td>\n",
       "      <td>1</td>\n",
       "    </tr>\n",
       "    <tr>\n",
       "      <th>1</th>\n",
       "      <td>crust is not good</td>\n",
       "      <td>0</td>\n",
       "    </tr>\n",
       "    <tr>\n",
       "      <th>2</th>\n",
       "      <td>not tasty and the texture was just nasty</td>\n",
       "      <td>0</td>\n",
       "    </tr>\n",
       "    <tr>\n",
       "      <th>3</th>\n",
       "      <td>stopped by during the late may bank holiday of...</td>\n",
       "      <td>1</td>\n",
       "    </tr>\n",
       "    <tr>\n",
       "      <th>4</th>\n",
       "      <td>the selection on the menu was great and so wer...</td>\n",
       "      <td>1</td>\n",
       "    </tr>\n",
       "  </tbody>\n",
       "</table>\n",
       "</div>"
      ],
      "text/plain": [
       "                                              review  status\n",
       "0                           wow    loved this place        1\n",
       "1                                 crust is not good        0\n",
       "2          not tasty and the texture was just nasty        0\n",
       "3  stopped by during the late may bank holiday of...       1\n",
       "4  the selection on the menu was great and so wer...       1"
      ]
     },
     "execution_count": 5,
     "metadata": {},
     "output_type": "execute_result"
    }
   ],
   "source": [
    "df.head(5)"
   ]
  },
  {
   "cell_type": "markdown",
   "id": "21fa989b",
   "metadata": {},
   "source": [
    "# Removing Stop Words\n",
    "The reviews also contain common words such as ‘the’, ‘at’, etc that don’t tell us much about the polarity of a sentence. Let’s get rid of those. To remove them, you have to employ the service of the Natural Language Toolkit (nltk). Let’s import the package and download the stop words. "
   ]
  },
  {
   "cell_type": "code",
   "execution_count": 6,
   "id": "a6967fd9",
   "metadata": {},
   "outputs": [
    {
     "name": "stderr",
     "output_type": "stream",
     "text": [
      "[nltk_data] Downloading package stopwords to\n",
      "[nltk_data]     C:\\Users\\amiry\\AppData\\Roaming\\nltk_data...\n",
      "[nltk_data]   Package stopwords is already up-to-date!\n"
     ]
    },
    {
     "data": {
      "text/plain": [
       "True"
      ]
     },
     "execution_count": 6,
     "metadata": {},
     "output_type": "execute_result"
    }
   ],
   "source": [
    "import nltk\n",
    "from nltk.corpus import stopwords\n",
    "nltk.download('stopwords')"
   ]
  },
  {
   "cell_type": "markdown",
   "id": "5b4c19e4",
   "metadata": {},
   "source": [
    "The next step is to define the function that will remove all the common words from the reviews. "
   ]
  },
  {
   "cell_type": "code",
   "execution_count": 7,
   "id": "eb9bec07",
   "metadata": {},
   "outputs": [],
   "source": [
    "def remove_stop_words(review):\n",
    "    review_minus_sw = []\n",
    "    stop_words = stopwords.words('english')\n",
    "    review = review.split()\n",
    "    review = [review_minus_sw.append(word) for word in review if word not in stop_words]\n",
    "    review = ' '.join(review_minus_sw)\n",
    "    return review"
   ]
  },
  {
   "cell_type": "code",
   "execution_count": 8,
   "id": "5f05ee84",
   "metadata": {},
   "outputs": [],
   "source": [
    "df['review'] = df['review'].apply(remove_stop_words)\n"
   ]
  },
  {
   "cell_type": "code",
   "execution_count": 9,
   "id": "01537e63",
   "metadata": {},
   "outputs": [
    {
     "data": {
      "text/html": [
       "<div>\n",
       "<style scoped>\n",
       "    .dataframe tbody tr th:only-of-type {\n",
       "        vertical-align: middle;\n",
       "    }\n",
       "\n",
       "    .dataframe tbody tr th {\n",
       "        vertical-align: top;\n",
       "    }\n",
       "\n",
       "    .dataframe thead th {\n",
       "        text-align: right;\n",
       "    }\n",
       "</style>\n",
       "<table border=\"1\" class=\"dataframe\">\n",
       "  <thead>\n",
       "    <tr style=\"text-align: right;\">\n",
       "      <th></th>\n",
       "      <th>review</th>\n",
       "      <th>status</th>\n",
       "    </tr>\n",
       "  </thead>\n",
       "  <tbody>\n",
       "    <tr>\n",
       "      <th>0</th>\n",
       "      <td>wow loved place</td>\n",
       "      <td>1</td>\n",
       "    </tr>\n",
       "    <tr>\n",
       "      <th>1</th>\n",
       "      <td>crust good</td>\n",
       "      <td>0</td>\n",
       "    </tr>\n",
       "    <tr>\n",
       "      <th>2</th>\n",
       "      <td>tasty texture nasty</td>\n",
       "      <td>0</td>\n",
       "    </tr>\n",
       "    <tr>\n",
       "      <th>3</th>\n",
       "      <td>stopped late may bank holiday rick steve recom...</td>\n",
       "      <td>1</td>\n",
       "    </tr>\n",
       "    <tr>\n",
       "      <th>4</th>\n",
       "      <td>selection menu great prices</td>\n",
       "      <td>1</td>\n",
       "    </tr>\n",
       "  </tbody>\n",
       "</table>\n",
       "</div>"
      ],
      "text/plain": [
       "                                              review  status\n",
       "0                                    wow loved place       1\n",
       "1                                         crust good       0\n",
       "2                                tasty texture nasty       0\n",
       "3  stopped late may bank holiday rick steve recom...       1\n",
       "4                        selection menu great prices       1"
      ]
     },
     "execution_count": 9,
     "metadata": {},
     "output_type": "execute_result"
    }
   ],
   "source": [
    "df.head(5)"
   ]
  },
  {
   "cell_type": "markdown",
   "id": "85188994",
   "metadata": {},
   "source": [
    "# Token Normalization\n",
    "The next cleaning item on the menu is to convert the words in the reviews to their root form. For example, the word hated will be converted to its root form which is hate. This process is important because it reduces the number of words that will be fed to the machine learning model. `nltk` can assist us in converting the words in their root form. This can be done using the `WordNetLemmatizer` utility. This can also be done using the `PorterStemmer`. \n",
    "\n",
    "What is the difference between Stemmers and Lemmatizers?\n",
    "Stemmers use algorithms to remove suffixes and prefixes from words and the final words may not be the dictionary representation of a word. For instance, applying the `PorterStemmer` to the word movie results in `movi` which is not an actual word in the dictionary. \n",
    "\n",
    "However, lemmatizers will usually convert a word to the dictionary representation. For example, the word `dogs` is converted to its root form which is `dog`. \n",
    "\n",
    "Let’s apply the `WordNetLemmatizer` here. The first step is to create the function that will be used to do this. "
   ]
  },
  {
   "cell_type": "code",
   "execution_count": 10,
   "id": "661fa651",
   "metadata": {},
   "outputs": [
    {
     "name": "stderr",
     "output_type": "stream",
     "text": [
      "[nltk_data] Downloading package wordnet to\n",
      "[nltk_data]     C:\\Users\\amiry\\AppData\\Roaming\\nltk_data...\n",
      "[nltk_data]   Package wordnet is already up-to-date!\n"
     ]
    },
    {
     "data": {
      "text/plain": [
       "True"
      ]
     },
     "execution_count": 10,
     "metadata": {},
     "output_type": "execute_result"
    }
   ],
   "source": [
    "import nltk\n",
    "from nltk.stem import WordNetLemmatizer\n",
    "nltk.download('wordnet')\n"
   ]
  },
  {
   "cell_type": "code",
   "execution_count": 11,
   "id": "87255bf0",
   "metadata": {},
   "outputs": [],
   "source": [
    "def lemmatize(review):\n",
    "    lemmatizer = WordNetLemmatizer()\n",
    "    words = review.split()\n",
    "    lemmatized_words = [lemmatizer.lemmatize(word) for word in words]\n",
    "    return ' '.join(lemmatized_words)"
   ]
  },
  {
   "cell_type": "code",
   "execution_count": 12,
   "id": "238003f3",
   "metadata": {},
   "outputs": [],
   "source": [
    "df['review'] = df['review'].apply(lemmatize)"
   ]
  },
  {
   "cell_type": "code",
   "execution_count": 13,
   "id": "141aa2af",
   "metadata": {},
   "outputs": [
    {
     "data": {
      "text/html": [
       "<div>\n",
       "<style scoped>\n",
       "    .dataframe tbody tr th:only-of-type {\n",
       "        vertical-align: middle;\n",
       "    }\n",
       "\n",
       "    .dataframe tbody tr th {\n",
       "        vertical-align: top;\n",
       "    }\n",
       "\n",
       "    .dataframe thead th {\n",
       "        text-align: right;\n",
       "    }\n",
       "</style>\n",
       "<table border=\"1\" class=\"dataframe\">\n",
       "  <thead>\n",
       "    <tr style=\"text-align: right;\">\n",
       "      <th></th>\n",
       "      <th>review</th>\n",
       "      <th>status</th>\n",
       "    </tr>\n",
       "  </thead>\n",
       "  <tbody>\n",
       "    <tr>\n",
       "      <th>0</th>\n",
       "      <td>wow loved place</td>\n",
       "      <td>1</td>\n",
       "    </tr>\n",
       "    <tr>\n",
       "      <th>1</th>\n",
       "      <td>crust good</td>\n",
       "      <td>0</td>\n",
       "    </tr>\n",
       "    <tr>\n",
       "      <th>2</th>\n",
       "      <td>tasty texture nasty</td>\n",
       "      <td>0</td>\n",
       "    </tr>\n",
       "    <tr>\n",
       "      <th>3</th>\n",
       "      <td>stopped late may bank holiday rick steve recom...</td>\n",
       "      <td>1</td>\n",
       "    </tr>\n",
       "    <tr>\n",
       "      <th>4</th>\n",
       "      <td>selection menu great price</td>\n",
       "      <td>1</td>\n",
       "    </tr>\n",
       "  </tbody>\n",
       "</table>\n",
       "</div>"
      ],
      "text/plain": [
       "                                              review  status\n",
       "0                                    wow loved place       1\n",
       "1                                         crust good       0\n",
       "2                                tasty texture nasty       0\n",
       "3  stopped late may bank holiday rick steve recom...       1\n",
       "4                         selection menu great price       1"
      ]
     },
     "execution_count": 13,
     "metadata": {},
     "output_type": "execute_result"
    }
   ],
   "source": [
    "df.head(5)"
   ]
  },
  {
   "cell_type": "markdown",
   "id": "08f1af4a",
   "metadata": {},
   "source": [
    "# Splitting \n",
    "\n",
    "Let’s start by splitting the data into a training and validation set. "
   ]
  },
  {
   "cell_type": "code",
   "execution_count": 14,
   "id": "87d3e1d2",
   "metadata": {},
   "outputs": [],
   "source": [
    "from sklearn.model_selection import train_test_split"
   ]
  },
  {
   "cell_type": "code",
   "execution_count": 15,
   "id": "cfc16ba0",
   "metadata": {},
   "outputs": [],
   "source": [
    "docs = df['review']\n",
    "labels = df['status']\n",
    "X_train, X_test , y_train, y_test = train_test_split(docs, labels , test_size = 0.20)"
   ]
  },
  {
   "cell_type": "markdown",
   "id": "38eee7e9",
   "metadata": {},
   "source": [
    "# Numerical Representation\n",
    "\n",
    "The data has to be converted in some numerical representation. The `one_hot` function can be used to do this. The function will encode the reviews into a list of integers. It expects the following arguments: \n",
    "\n",
    "    `text` that is the text to be encoded\n",
    "    `n` the size of the vocabulary \n",
    "    `filters` specify the characters to be removed from the reviews such as punctuation marks and any other special characters \n",
    "    `lower` indicates if the reviews should be converted to lower case or not\n",
    "    `split` dictates how the reviews should be split \n"
   ]
  },
  {
   "cell_type": "code",
   "execution_count": 16,
   "id": "bc48549e",
   "metadata": {},
   "outputs": [],
   "source": [
    "from tensorflow.keras.preprocessing.text import one_hot"
   ]
  },
  {
   "cell_type": "code",
   "execution_count": 17,
   "id": "aa610f62",
   "metadata": {},
   "outputs": [],
   "source": [
    "vocab_size = 5000\n",
    "\n",
    "X_train = [one_hot(d, vocab_size,filters='!\"#$%&()*+,-./:;<=>?@[\\]^_`{|}~',lower=True, split=' ') for d in X_train]\n",
    "X_test = [one_hot(d, vocab_size,filters='!\"#$%&()*+,-./:;<=>?@[\\]^_`{|}~',lower=True, split=' ') for d in X_test]"
   ]
  },
  {
   "cell_type": "code",
   "execution_count": 18,
   "id": "534703c8",
   "metadata": {},
   "outputs": [
    {
     "name": "stdout",
     "output_type": "stream",
     "text": [
      "tasty texture nasty\n",
      "[1642, 3440, 3124]\n"
     ]
    }
   ],
   "source": [
    "print(docs[2])\n",
    "print(X_train[2])"
   ]
  },
  {
   "cell_type": "markdown",
   "id": "65b858a3",
   "metadata": {},
   "source": [
    "# Pad the Sequences\n",
    "At the moment each review is represented by a sequence of integers. The only problem here is that the sequences are of different lengths. Usually, the data passed to a machine learning model is of the same length. Therefore, the sequences have to be forced to be of the same length. This is done by padding shorter sequences with zeros and dropping off some integers on very long sequences. This means that you have to define the maximum length of every sequence. Let’s use 100 here. This is a number that can be modified until you obtain the optimal one for the problem in question. "
   ]
  },
  {
   "cell_type": "code",
   "execution_count": 19,
   "id": "3ca581e7",
   "metadata": {},
   "outputs": [],
   "source": [
    "from tensorflow.keras.preprocessing.sequence import pad_sequences"
   ]
  },
  {
   "cell_type": "code",
   "execution_count": 20,
   "id": "434d2302",
   "metadata": {},
   "outputs": [],
   "source": [
    "max_length = 100\n",
    "X_train = pad_sequences(X_train, maxlen=max_length, padding='post')\n",
    "X_test = pad_sequences(X_test, maxlen=max_length, padding='post')"
   ]
  },
  {
   "cell_type": "markdown",
   "id": "3efb93a9",
   "metadata": {},
   "source": [
    "The dataset is now ready, let’s move on to creating the convolution neural network. "
   ]
  },
  {
   "cell_type": "markdown",
   "id": "97bcc37e",
   "metadata": {},
   "source": [
    "# CNN Architecture\n",
    "\n",
    "The application of convolutional neural networks is the same as in image data. The only difference is that 1D convolutions are applied instead of 2D convolutions. In images, the kernel slides in 2D but in sequence data like text data the kernel slides in one dimension. \n",
    "\n",
    "The convolution network will be made of of the following: \n",
    "\n",
    "An embedding layer that turns the data into dense vectors of fixed size.\n",
    "        \n",
    "        A `Conv1D` with 128 filters with the `relu` activation function.\n",
    "        \n",
    "        A `MaxPooling` layer that downsamples the input by taking the maximum value.\n",
    "        \n",
    "        A `Dense` layer with 10 units for the fully connected layer.\n",
    "        \n",
    "        An output layer with the sigmoid activation function because this is a binary problem."
   ]
  },
  {
   "cell_type": "code",
   "execution_count": 21,
   "id": "2e8f4a8c",
   "metadata": {},
   "outputs": [],
   "source": [
    "from tensorflow.keras.layers import Dense, Conv1D, Embedding,GlobalMaxPooling1D\n",
    "from tensorflow.keras.models import Sequential\n",
    "from keras.utils.vis_utils import plot_model\n"
   ]
  },
  {
   "cell_type": "code",
   "execution_count": 232,
   "id": "a02b0ccf",
   "metadata": {},
   "outputs": [],
   "source": [
    "del model\n",
    "model = Sequential([\n",
    "    Embedding(vocab_size, 10, input_length=max_length),\n",
    "   Conv1D(128, 5, activation='relu'),\n",
    "    GlobalMaxPooling1D(),\n",
    "  Dense(10, activation='relu'),\n",
    "  Dense(1, activation='sigmoid')\n",
    "])"
   ]
  },
  {
   "cell_type": "code",
   "execution_count": 233,
   "id": "de9e4521",
   "metadata": {},
   "outputs": [
    {
     "name": "stdout",
     "output_type": "stream",
     "text": [
      "Model: \"sequential_1632\"\n",
      "_________________________________________________________________\n",
      " Layer (type)                Output Shape              Param #   \n",
      "=================================================================\n",
      " embedding_1634 (Embedding)  (None, 100, 10)           50000     \n",
      "                                                                 \n",
      " conv1d_1634 (Conv1D)        (None, 96, 128)           6528      \n",
      "                                                                 \n",
      " global_max_pooling1d_1634 (  (None, 128)              0         \n",
      " GlobalMaxPooling1D)                                             \n",
      "                                                                 \n",
      " dense_3266 (Dense)          (None, 10)                1290      \n",
      "                                                                 \n",
      " dense_3267 (Dense)          (None, 1)                 11        \n",
      "                                                                 \n",
      "=================================================================\n",
      "Total params: 57,829\n",
      "Trainable params: 57,829\n",
      "Non-trainable params: 0\n",
      "_________________________________________________________________\n",
      "None\n"
     ]
    }
   ],
   "source": [
    "print(model.summary())\n"
   ]
  },
  {
   "cell_type": "code",
   "execution_count": 234,
   "id": "1ccd6103",
   "metadata": {},
   "outputs": [
    {
     "data": {
      "image/png": "[encoded data removed]",
      "text/plain": [
       "<IPython.core.display.Image object>"
      ]
     },
     "execution_count": 234,
     "metadata": {},
     "output_type": "execute_result"
    }
   ],
   "source": [
    "plot_model(model, show_shapes=True, to_file='model.png')"
   ]
  },
  {
   "cell_type": "markdown",
   "id": "0301b2c9",
   "metadata": {},
   "source": [
    "The next step is to prepare the model for training. Let’s apply the common `Adam` optimizer and the `binary_crossentropy` loss function. \n",
    "\n"
   ]
  },
  {
   "cell_type": "code",
   "execution_count": 235,
   "id": "f9565b99",
   "metadata": {},
   "outputs": [],
   "source": [
    "model.compile(optimizer='adam', loss='binary_crossentropy', metrics=['acc'])"
   ]
  },
  {
   "cell_type": "markdown",
   "id": "583c9913",
   "metadata": {},
   "source": [
    "The next move is to train the model on the training set. You can also set the validation set at this stage."
   ]
  },
  {
   "cell_type": "code",
   "execution_count": 236,
   "id": "9de64ddf",
   "metadata": {},
   "outputs": [
    {
     "name": "stdout",
     "output_type": "stream",
     "text": [
      "Epoch 1/20\n",
      "25/25 [==============================] - 1s 19ms/step - loss: 0.6942 - acc: 0.4900 - val_loss: 0.6932 - val_acc: 0.4900\n",
      "Epoch 2/20\n",
      "25/25 [==============================] - 0s 12ms/step - loss: 0.6897 - acc: 0.6050 - val_loss: 0.6917 - val_acc: 0.5250\n",
      "Epoch 3/20\n",
      "25/25 [==============================] - 0s 12ms/step - loss: 0.6828 - acc: 0.6338 - val_loss: 0.6871 - val_acc: 0.5800\n",
      "Epoch 4/20\n",
      "25/25 [==============================] - 0s 12ms/step - loss: 0.6527 - acc: 0.8100 - val_loss: 0.6597 - val_acc: 0.6500\n",
      "Epoch 5/20\n",
      "25/25 [==============================] - 0s 12ms/step - loss: 0.5478 - acc: 0.8888 - val_loss: 0.5901 - val_acc: 0.6800\n",
      "Epoch 6/20\n",
      "25/25 [==============================] - 0s 11ms/step - loss: 0.3394 - acc: 0.9350 - val_loss: 0.5344 - val_acc: 0.7150\n",
      "Epoch 7/20\n",
      "25/25 [==============================] - 0s 9ms/step - loss: 0.1760 - acc: 0.9513 - val_loss: 0.5538 - val_acc: 0.7500\n",
      "Epoch 8/20\n",
      "25/25 [==============================] - 0s 9ms/step - loss: 0.1075 - acc: 0.9712 - val_loss: 0.6042 - val_acc: 0.7250\n",
      "Epoch 9/20\n",
      "25/25 [==============================] - 0s 9ms/step - loss: 0.0689 - acc: 0.9837 - val_loss: 0.6761 - val_acc: 0.7250\n",
      "Epoch 10/20\n",
      "25/25 [==============================] - 0s 10ms/step - loss: 0.0560 - acc: 0.9862 - val_loss: 0.7139 - val_acc: 0.7250\n",
      "Epoch 11/20\n",
      "25/25 [==============================] - 0s 9ms/step - loss: 0.0417 - acc: 0.9887 - val_loss: 0.7516 - val_acc: 0.7100\n",
      "Epoch 12/20\n",
      "25/25 [==============================] - 0s 9ms/step - loss: 0.0330 - acc: 0.9937 - val_loss: 0.7929 - val_acc: 0.7100\n",
      "Epoch 13/20\n",
      "25/25 [==============================] - 0s 10ms/step - loss: 0.0289 - acc: 0.9925 - val_loss: 0.8164 - val_acc: 0.7150\n",
      "Epoch 14/20\n",
      "25/25 [==============================] - 0s 12ms/step - loss: 0.0234 - acc: 0.9937 - val_loss: 0.8611 - val_acc: 0.7100\n",
      "Epoch 15/20\n",
      "25/25 [==============================] - 0s 11ms/step - loss: 0.0216 - acc: 0.9937 - val_loss: 0.8963 - val_acc: 0.7200\n",
      "Epoch 16/20\n",
      "25/25 [==============================] - 0s 9ms/step - loss: 0.0164 - acc: 0.9937 - val_loss: 0.9125 - val_acc: 0.7200\n",
      "Epoch 17/20\n",
      "25/25 [==============================] - 0s 9ms/step - loss: 0.0154 - acc: 0.9937 - val_loss: 0.9522 - val_acc: 0.7100\n",
      "Epoch 18/20\n",
      "25/25 [==============================] - 0s 9ms/step - loss: 0.0142 - acc: 0.9937 - val_loss: 0.9643 - val_acc: 0.7150\n",
      "Epoch 19/20\n",
      "25/25 [==============================] - 0s 9ms/step - loss: 0.0137 - acc: 0.9950 - val_loss: 0.9888 - val_acc: 0.7150\n",
      "Epoch 20/20\n",
      "25/25 [==============================] - 0s 9ms/step - loss: 0.0127 - acc: 0.9962 - val_loss: 1.0214 - val_acc: 0.7100\n"
     ]
    }
   ],
   "source": [
    "history = model.fit(X_train, y_train, epochs=20, validation_data=(X_test, y_test))"
   ]
  },
  {
   "cell_type": "markdown",
   "id": "f0fc6bd4",
   "metadata": {},
   "source": [
    "Once, the training is done, the next step is to evaluate the model on the testing set. "
   ]
  },
  {
   "cell_type": "code",
   "execution_count": 237,
   "id": "e9e535fc",
   "metadata": {},
   "outputs": [
    {
     "name": "stdout",
     "output_type": "stream",
     "text": [
      "7/7 [==============================] - 0s 5ms/step - loss: 1.0214 - acc: 0.7100\n",
      "Testing Accuracy is 70.99999785423279 \n"
     ]
    }
   ],
   "source": [
    "loss, accuracy = model.evaluate(X_test,y_test)\n",
    "print('Testing Accuracy is {} '.format(accuracy*100))"
   ]
  },
  {
   "cell_type": "markdown",
   "id": "f4d56616",
   "metadata": {},
   "source": [
    "# Plotting Accuracy"
   ]
  },
  {
   "cell_type": "code",
   "execution_count": 238,
   "id": "0f5780ad",
   "metadata": {},
   "outputs": [],
   "source": [
    "import seaborn as sns\n",
    "import matplotlib.pyplot as plt\n",
    "%matplotlib inline"
   ]
  },
  {
   "cell_type": "code",
   "execution_count": 239,
   "id": "45cdbae2",
   "metadata": {},
   "outputs": [
    {
     "data": {
      "text/plain": [
       "[]"
      ]
     },
     "execution_count": 239,
     "metadata": {},
     "output_type": "execute_result"
    },
    {
     "data": {
      "image/png": "[encoded data removed]",
      "text/plain": [
       "<Figure size 432x288 with 1 Axes>"
      ]
     },
     "metadata": {},
     "output_type": "display_data"
    }
   ],
   "source": [
    "sns.set()\n",
    "\n",
    "acc = history.history['acc']\n",
    "val = history.history['val_acc']\n",
    "epochs = range(1, len(acc) + 1)\n",
    "\n",
    "plt.plot(epochs, acc, '-', label='Training accuracy')\n",
    "plt.plot(epochs, val, ':', label='Validation accuracy')\n",
    "plt.title('Training and Validation Accuracy')\n",
    "plt.xlabel('Epoch')\n",
    "plt.ylabel('Accuracy')\n",
    "plt.legend(loc='lower right')\n",
    "plt.plot()\n"
   ]
  },
  {
   "cell_type": "markdown",
   "id": "93b942f3",
   "metadata": {},
   "source": [
    "# predict\n",
    "Use test data and predict probability for each sample"
   ]
  },
  {
   "cell_type": "code",
   "execution_count": 240,
   "id": "f4bb8d6c",
   "metadata": {},
   "outputs": [
    {
     "name": "stdout",
     "output_type": "stream",
     "text": [
      "7/7 [==============================] - 0s 4ms/step\n"
     ]
    }
   ],
   "source": [
    "y_pred=model.predict(X_test)[:][:]"
   ]
  },
  {
   "attachments": {
    "image.png": {
     "image/png": "[encoded data removed]"
    }
   },
   "cell_type": "markdown",
   "id": "516a1434",
   "metadata": {},
   "source": [
    "# Confusion Matrix\n",
    "![image.png](attachment:image.png)\n"
   ]
  },
  {
   "cell_type": "code",
   "execution_count": 241,
   "id": "ad426f82",
   "metadata": {},
   "outputs": [],
   "source": [
    "import numpy as np\n",
    "from sklearn.metrics import confusion_matrix"
   ]
  },
  {
   "cell_type": "code",
   "execution_count": 242,
   "id": "8d4b682c",
   "metadata": {},
   "outputs": [
    {
     "name": "stdout",
     "output_type": "stream",
     "text": [
      "Confusion Matrix:\n",
      "[[69 36]\n",
      " [22 73]]\n"
     ]
    }
   ],
   "source": [
    "# Convert probabilities to binary predictions\n",
    "threshold = 0.5\n",
    "binary_predictions = np.where(y_pred >= threshold, 1, 0)\n",
    "\n",
    "# Calculate confusion matrix\n",
    "confusion = confusion_matrix(y_test, binary_predictions)\n",
    "\n",
    "print(\"Confusion Matrix:\")\n",
    "print(confusion)"
   ]
  },
  {
   "cell_type": "markdown",
   "id": "a5bb9b6b",
   "metadata": {},
   "source": [
    "# Hyperparameter Optimization\n",
    "The model achieves an accuracy of 70.99%. You might get different results here because of the way weights are initialized. However, let’s look at whether this accuracy can be increased by using grid search hyperparameter optimization. "
   ]
  },
  {
   "cell_type": "code",
   "execution_count": 33,
   "id": "f9aae139",
   "metadata": {},
   "outputs": [],
   "source": [
    "def model_to_optimize(encoding_size, num_filters, kernel_size, neuron_size):\n",
    "    model1 = Sequential([\n",
    "        Embedding(vocab_size, encoding_size, input_length=max_length),\n",
    "        Conv1D(num_filters, kernel_size, activation='relu'),\n",
    "        GlobalMaxPooling1D(),\n",
    "        Dense(neuron_size, activation='relu'),\n",
    "        Dense(1, activation='sigmoid')\n",
    "    ])\n",
    "    model1.compile(loss='binary_crossentropy', optimizer='adam', metrics=['accuracy'])\n",
    "    return model1\n"
   ]
  },
  {
   "cell_type": "code",
   "execution_count": 34,
   "id": "ee9d829b",
   "metadata": {},
   "outputs": [],
   "source": [
    "params = {\n",
    "    \"encoding_size\":[10, 20, 60, 100],\n",
    "    \"num_filters\":[32, 64, 100, 128],\n",
    "    \"kernel_size\":[2, 3, 4, 5, 7],\n",
    "    \"neuron_size\":[8, 10, 15, 20],\n",
    "}"
   ]
  },
  {
   "cell_type": "markdown",
   "id": "ad0e9d76",
   "metadata": {},
   "source": [
    "# Define the Keras Classifier\n",
    "\n",
    "The next step is to define the model using the `KerasClassifier` wrapper function. The function expects:"
   ]
  },
  {
   "cell_type": "code",
   "execution_count": 35,
   "id": "f5942caa",
   "metadata": {},
   "outputs": [],
   "source": [
    "from tensorflow.keras.wrappers.scikit_learn import KerasClassifier\n"
   ]
  },
  {
   "cell_type": "code",
   "execution_count": 36,
   "id": "d2b0a9f6",
   "metadata": {},
   "outputs": [
    {
     "name": "stderr",
     "output_type": "stream",
     "text": [
      "C:\\Users\\amiry\\AppData\\Local\\Temp/ipykernel_3112/386244970.py:1: DeprecationWarning: KerasClassifier is deprecated, use Sci-Keras (https://github.com/adriangb/scikeras) instead. See https://www.adriangb.com/scikeras/stable/migration.html for help migrating.\n",
      "  model_grid = KerasClassifier(build_fn=model_to_optimize,epochs=20,batch_size=10,verbose=False)\n"
     ]
    }
   ],
   "source": [
    "model_grid = KerasClassifier(build_fn=model_to_optimize,epochs=20,batch_size=10,verbose=False)"
   ]
  },
  {
   "cell_type": "markdown",
   "id": "17c4892b",
   "metadata": {},
   "source": [
    "# Performing Grid Search\n",
    "Let’s now perform the grid search. The `GridSearchCV` expects:\n",
    "\n",
    "The model defined above \n",
    "The parameters defined above \n",
    "The `cv` that dictates how cross-validation will be performed. If none is defined, 5-fold cross-validation is used. If an integer is used, it defines the number of folds in a (Stratified) KFold. \n",
    "The next step after creating an instance of `GridSearchCV` is to fit it to the training data. "
   ]
  },
  {
   "cell_type": "code",
   "execution_count": 37,
   "id": "836a778a",
   "metadata": {},
   "outputs": [],
   "source": [
    "from sklearn.model_selection import GridSearchCV"
   ]
  },
  {
   "cell_type": "code",
   "execution_count": 38,
   "id": "a2adc7f8",
   "metadata": {},
   "outputs": [
    {
     "name": "stdout",
     "output_type": "stream",
     "text": [
      "Fitting 5 folds for each of 320 candidates, totalling 1600 fits\n"
     ]
    }
   ],
   "source": [
    "search = GridSearchCV(estimator=model_grid, param_grid=params,cv=5, verbose=1)\n",
    "search_result = search.fit(X_train, y_train)\n",
    "\n"
   ]
  },
  {
   "cell_type": "markdown",
   "id": "798de98c",
   "metadata": {},
   "source": [
    "After the fitting is done, the accuracy can be obtained using the `score` method. "
   ]
  },
  {
   "cell_type": "code",
   "execution_count": 39,
   "id": "beeba418",
   "metadata": {},
   "outputs": [],
   "source": [
    "test_accuracy = search.score(X_test, y_test)"
   ]
  },
  {
   "cell_type": "markdown",
   "id": "bfaa5363",
   "metadata": {},
   "source": [
    "You can also check for the parameter combination that resulted in the best results.\n"
   ]
  },
  {
   "cell_type": "code",
   "execution_count": 40,
   "id": "6bedf975",
   "metadata": {},
   "outputs": [
    {
     "data": {
      "text/plain": [
       "{'encoding_size': 100, 'kernel_size': 2, 'neuron_size': 8, 'num_filters': 64}"
      ]
     },
     "execution_count": 40,
     "metadata": {},
     "output_type": "execute_result"
    }
   ],
   "source": [
    "search.best_params_"
   ]
  },
  {
   "cell_type": "markdown",
   "id": "111c1cf6",
   "metadata": {},
   "source": [
    "The other thing you can do is to check the cross-validated results. \n",
    "\n"
   ]
  },
  {
   "cell_type": "code",
   "execution_count": 41,
   "id": "407d86c1",
   "metadata": {},
   "outputs": [
    {
     "data": {
      "text/html": [
       "<div>\n",
       "<style scoped>\n",
       "    .dataframe tbody tr th:only-of-type {\n",
       "        vertical-align: middle;\n",
       "    }\n",
       "\n",
       "    .dataframe tbody tr th {\n",
       "        vertical-align: top;\n",
       "    }\n",
       "\n",
       "    .dataframe thead th {\n",
       "        text-align: right;\n",
       "    }\n",
       "</style>\n",
       "<table border=\"1\" class=\"dataframe\">\n",
       "  <thead>\n",
       "    <tr style=\"text-align: right;\">\n",
       "      <th></th>\n",
       "      <th>mean_fit_time</th>\n",
       "      <th>std_fit_time</th>\n",
       "      <th>mean_score_time</th>\n",
       "      <th>std_score_time</th>\n",
       "      <th>param_encoding_size</th>\n",
       "      <th>param_kernel_size</th>\n",
       "      <th>param_neuron_size</th>\n",
       "      <th>param_num_filters</th>\n",
       "      <th>params</th>\n",
       "      <th>split0_test_score</th>\n",
       "      <th>split1_test_score</th>\n",
       "      <th>split2_test_score</th>\n",
       "      <th>split3_test_score</th>\n",
       "      <th>split4_test_score</th>\n",
       "      <th>mean_test_score</th>\n",
       "      <th>std_test_score</th>\n",
       "      <th>rank_test_score</th>\n",
       "    </tr>\n",
       "  </thead>\n",
       "  <tbody>\n",
       "    <tr>\n",
       "      <th>0</th>\n",
       "      <td>7.101034</td>\n",
       "      <td>0.661276</td>\n",
       "      <td>0.199879</td>\n",
       "      <td>0.030366</td>\n",
       "      <td>10</td>\n",
       "      <td>2</td>\n",
       "      <td>8</td>\n",
       "      <td>32</td>\n",
       "      <td>{'encoding_size': 10, 'kernel_size': 2, 'neuro...</td>\n",
       "      <td>0.71875</td>\n",
       "      <td>0.68750</td>\n",
       "      <td>0.71250</td>\n",
       "      <td>0.70625</td>\n",
       "      <td>0.71250</td>\n",
       "      <td>0.70750</td>\n",
       "      <td>0.010753</td>\n",
       "      <td>275</td>\n",
       "    </tr>\n",
       "    <tr>\n",
       "      <th>1</th>\n",
       "      <td>6.995734</td>\n",
       "      <td>0.353062</td>\n",
       "      <td>0.173226</td>\n",
       "      <td>0.009723</td>\n",
       "      <td>10</td>\n",
       "      <td>2</td>\n",
       "      <td>8</td>\n",
       "      <td>64</td>\n",
       "      <td>{'encoding_size': 10, 'kernel_size': 2, 'neuro...</td>\n",
       "      <td>0.68750</td>\n",
       "      <td>0.73125</td>\n",
       "      <td>0.71250</td>\n",
       "      <td>0.74375</td>\n",
       "      <td>0.73125</td>\n",
       "      <td>0.72125</td>\n",
       "      <td>0.019605</td>\n",
       "      <td>114</td>\n",
       "    </tr>\n",
       "    <tr>\n",
       "      <th>2</th>\n",
       "      <td>7.134384</td>\n",
       "      <td>0.260499</td>\n",
       "      <td>0.182666</td>\n",
       "      <td>0.006122</td>\n",
       "      <td>10</td>\n",
       "      <td>2</td>\n",
       "      <td>8</td>\n",
       "      <td>100</td>\n",
       "      <td>{'encoding_size': 10, 'kernel_size': 2, 'neuro...</td>\n",
       "      <td>0.72500</td>\n",
       "      <td>0.75000</td>\n",
       "      <td>0.70625</td>\n",
       "      <td>0.71250</td>\n",
       "      <td>0.74375</td>\n",
       "      <td>0.72750</td>\n",
       "      <td>0.017048</td>\n",
       "      <td>38</td>\n",
       "    </tr>\n",
       "    <tr>\n",
       "      <th>3</th>\n",
       "      <td>6.869735</td>\n",
       "      <td>0.240145</td>\n",
       "      <td>0.179908</td>\n",
       "      <td>0.011846</td>\n",
       "      <td>10</td>\n",
       "      <td>2</td>\n",
       "      <td>8</td>\n",
       "      <td>128</td>\n",
       "      <td>{'encoding_size': 10, 'kernel_size': 2, 'neuro...</td>\n",
       "      <td>0.71250</td>\n",
       "      <td>0.72500</td>\n",
       "      <td>0.72500</td>\n",
       "      <td>0.74375</td>\n",
       "      <td>0.66250</td>\n",
       "      <td>0.71375</td>\n",
       "      <td>0.027500</td>\n",
       "      <td>199</td>\n",
       "    </tr>\n",
       "    <tr>\n",
       "      <th>4</th>\n",
       "      <td>6.884026</td>\n",
       "      <td>0.399896</td>\n",
       "      <td>0.174823</td>\n",
       "      <td>0.007139</td>\n",
       "      <td>10</td>\n",
       "      <td>2</td>\n",
       "      <td>10</td>\n",
       "      <td>32</td>\n",
       "      <td>{'encoding_size': 10, 'kernel_size': 2, 'neuro...</td>\n",
       "      <td>0.68750</td>\n",
       "      <td>0.72500</td>\n",
       "      <td>0.70625</td>\n",
       "      <td>0.68750</td>\n",
       "      <td>0.66875</td>\n",
       "      <td>0.69500</td>\n",
       "      <td>0.019121</td>\n",
       "      <td>318</td>\n",
       "    </tr>\n",
       "    <tr>\n",
       "      <th>...</th>\n",
       "      <td>...</td>\n",
       "      <td>...</td>\n",
       "      <td>...</td>\n",
       "      <td>...</td>\n",
       "      <td>...</td>\n",
       "      <td>...</td>\n",
       "      <td>...</td>\n",
       "      <td>...</td>\n",
       "      <td>...</td>\n",
       "      <td>...</td>\n",
       "      <td>...</td>\n",
       "      <td>...</td>\n",
       "      <td>...</td>\n",
       "      <td>...</td>\n",
       "      <td>...</td>\n",
       "      <td>...</td>\n",
       "      <td>...</td>\n",
       "    </tr>\n",
       "    <tr>\n",
       "      <th>315</th>\n",
       "      <td>6.512011</td>\n",
       "      <td>0.198802</td>\n",
       "      <td>0.165217</td>\n",
       "      <td>0.003951</td>\n",
       "      <td>100</td>\n",
       "      <td>7</td>\n",
       "      <td>15</td>\n",
       "      <td>128</td>\n",
       "      <td>{'encoding_size': 100, 'kernel_size': 7, 'neur...</td>\n",
       "      <td>0.74375</td>\n",
       "      <td>0.71250</td>\n",
       "      <td>0.74375</td>\n",
       "      <td>0.66875</td>\n",
       "      <td>0.72500</td>\n",
       "      <td>0.71875</td>\n",
       "      <td>0.027670</td>\n",
       "      <td>146</td>\n",
       "    </tr>\n",
       "    <tr>\n",
       "      <th>316</th>\n",
       "      <td>6.142744</td>\n",
       "      <td>0.152300</td>\n",
       "      <td>0.161129</td>\n",
       "      <td>0.003273</td>\n",
       "      <td>100</td>\n",
       "      <td>7</td>\n",
       "      <td>20</td>\n",
       "      <td>32</td>\n",
       "      <td>{'encoding_size': 100, 'kernel_size': 7, 'neur...</td>\n",
       "      <td>0.70625</td>\n",
       "      <td>0.71875</td>\n",
       "      <td>0.72500</td>\n",
       "      <td>0.66250</td>\n",
       "      <td>0.74375</td>\n",
       "      <td>0.71125</td>\n",
       "      <td>0.027214</td>\n",
       "      <td>229</td>\n",
       "    </tr>\n",
       "    <tr>\n",
       "      <th>317</th>\n",
       "      <td>6.315527</td>\n",
       "      <td>0.268221</td>\n",
       "      <td>0.160517</td>\n",
       "      <td>0.002904</td>\n",
       "      <td>100</td>\n",
       "      <td>7</td>\n",
       "      <td>20</td>\n",
       "      <td>64</td>\n",
       "      <td>{'encoding_size': 100, 'kernel_size': 7, 'neur...</td>\n",
       "      <td>0.73125</td>\n",
       "      <td>0.74375</td>\n",
       "      <td>0.75000</td>\n",
       "      <td>0.67500</td>\n",
       "      <td>0.70625</td>\n",
       "      <td>0.72125</td>\n",
       "      <td>0.027557</td>\n",
       "      <td>101</td>\n",
       "    </tr>\n",
       "    <tr>\n",
       "      <th>318</th>\n",
       "      <td>6.404274</td>\n",
       "      <td>0.165813</td>\n",
       "      <td>0.162136</td>\n",
       "      <td>0.006056</td>\n",
       "      <td>100</td>\n",
       "      <td>7</td>\n",
       "      <td>20</td>\n",
       "      <td>100</td>\n",
       "      <td>{'encoding_size': 100, 'kernel_size': 7, 'neur...</td>\n",
       "      <td>0.75625</td>\n",
       "      <td>0.71875</td>\n",
       "      <td>0.72500</td>\n",
       "      <td>0.66875</td>\n",
       "      <td>0.71875</td>\n",
       "      <td>0.71750</td>\n",
       "      <td>0.028062</td>\n",
       "      <td>153</td>\n",
       "    </tr>\n",
       "    <tr>\n",
       "      <th>319</th>\n",
       "      <td>6.517916</td>\n",
       "      <td>0.215582</td>\n",
       "      <td>0.161854</td>\n",
       "      <td>0.002170</td>\n",
       "      <td>100</td>\n",
       "      <td>7</td>\n",
       "      <td>20</td>\n",
       "      <td>128</td>\n",
       "      <td>{'encoding_size': 100, 'kernel_size': 7, 'neur...</td>\n",
       "      <td>0.75625</td>\n",
       "      <td>0.71875</td>\n",
       "      <td>0.72500</td>\n",
       "      <td>0.69375</td>\n",
       "      <td>0.70625</td>\n",
       "      <td>0.72000</td>\n",
       "      <td>0.021065</td>\n",
       "      <td>116</td>\n",
       "    </tr>\n",
       "  </tbody>\n",
       "</table>\n",
       "<p>320 rows × 17 columns</p>\n",
       "</div>"
      ],
      "text/plain": [
       "     mean_fit_time  std_fit_time  mean_score_time  std_score_time  \\\n",
       "0         7.101034      0.661276         0.199879        0.030366   \n",
       "1         6.995734      0.353062         0.173226        0.009723   \n",
       "2         7.134384      0.260499         0.182666        0.006122   \n",
       "3         6.869735      0.240145         0.179908        0.011846   \n",
       "4         6.884026      0.399896         0.174823        0.007139   \n",
       "..             ...           ...              ...             ...   \n",
       "315       6.512011      0.198802         0.165217        0.003951   \n",
       "316       6.142744      0.152300         0.161129        0.003273   \n",
       "317       6.315527      0.268221         0.160517        0.002904   \n",
       "318       6.404274      0.165813         0.162136        0.006056   \n",
       "319       6.517916      0.215582         0.161854        0.002170   \n",
       "\n",
       "    param_encoding_size param_kernel_size param_neuron_size param_num_filters  \\\n",
       "0                    10                 2                 8                32   \n",
       "1                    10                 2                 8                64   \n",
       "2                    10                 2                 8               100   \n",
       "3                    10                 2                 8               128   \n",
       "4                    10                 2                10                32   \n",
       "..                  ...               ...               ...               ...   \n",
       "315                 100                 7                15               128   \n",
       "316                 100                 7                20                32   \n",
       "317                 100                 7                20                64   \n",
       "318                 100                 7                20               100   \n",
       "319                 100                 7                20               128   \n",
       "\n",
       "                                                params  split0_test_score  \\\n",
       "0    {'encoding_size': 10, 'kernel_size': 2, 'neuro...            0.71875   \n",
       "1    {'encoding_size': 10, 'kernel_size': 2, 'neuro...            0.68750   \n",
       "2    {'encoding_size': 10, 'kernel_size': 2, 'neuro...            0.72500   \n",
       "3    {'encoding_size': 10, 'kernel_size': 2, 'neuro...            0.71250   \n",
       "4    {'encoding_size': 10, 'kernel_size': 2, 'neuro...            0.68750   \n",
       "..                                                 ...                ...   \n",
       "315  {'encoding_size': 100, 'kernel_size': 7, 'neur...            0.74375   \n",
       "316  {'encoding_size': 100, 'kernel_size': 7, 'neur...            0.70625   \n",
       "317  {'encoding_size': 100, 'kernel_size': 7, 'neur...            0.73125   \n",
       "318  {'encoding_size': 100, 'kernel_size': 7, 'neur...            0.75625   \n",
       "319  {'encoding_size': 100, 'kernel_size': 7, 'neur...            0.75625   \n",
       "\n",
       "     split1_test_score  split2_test_score  split3_test_score  \\\n",
       "0              0.68750            0.71250            0.70625   \n",
       "1              0.73125            0.71250            0.74375   \n",
       "2              0.75000            0.70625            0.71250   \n",
       "3              0.72500            0.72500            0.74375   \n",
       "4              0.72500            0.70625            0.68750   \n",
       "..                 ...                ...                ...   \n",
       "315            0.71250            0.74375            0.66875   \n",
       "316            0.71875            0.72500            0.66250   \n",
       "317            0.74375            0.75000            0.67500   \n",
       "318            0.71875            0.72500            0.66875   \n",
       "319            0.71875            0.72500            0.69375   \n",
       "\n",
       "     split4_test_score  mean_test_score  std_test_score  rank_test_score  \n",
       "0              0.71250          0.70750        0.010753              275  \n",
       "1              0.73125          0.72125        0.019605              114  \n",
       "2              0.74375          0.72750        0.017048               38  \n",
       "3              0.66250          0.71375        0.027500              199  \n",
       "4              0.66875          0.69500        0.019121              318  \n",
       "..                 ...              ...             ...              ...  \n",
       "315            0.72500          0.71875        0.027670              146  \n",
       "316            0.74375          0.71125        0.027214              229  \n",
       "317            0.70625          0.72125        0.027557              101  \n",
       "318            0.71875          0.71750        0.028062              153  \n",
       "319            0.70625          0.72000        0.021065              116  \n",
       "\n",
       "[320 rows x 17 columns]"
      ]
     },
     "execution_count": 41,
     "metadata": {},
     "output_type": "execute_result"
    }
   ],
   "source": [
    "pd.DataFrame(search.cv_results_)"
   ]
  },
  {
   "cell_type": "markdown",
   "id": "875ca8dc",
   "metadata": {},
   "source": [
    "# Model with the Best Parameters\n"
   ]
  },
  {
   "cell_type": "code",
   "execution_count": 229,
   "id": "02de75cb",
   "metadata": {},
   "outputs": [],
   "source": [
    "del best_model\n",
    "best_model = Sequential([\n",
    "    Embedding(vocab_size, 100, input_length=max_length),\n",
    "    Conv1D(64, 2, activation='relu'),\n",
    "    GlobalMaxPooling1D(),\n",
    "    Dense(8, activation='relu'),\n",
    "    Dense(1, activation='sigmoid')\n",
    "])\n",
    "best_model.compile(loss='binary_crossentropy', optimizer='adam', metrics=['accuracy'])\n"
   ]
  },
  {
   "cell_type": "code",
   "execution_count": 230,
   "id": "540345d6",
   "metadata": {},
   "outputs": [
    {
     "name": "stdout",
     "output_type": "stream",
     "text": [
      "Epoch 1/20\n",
      "25/25 [==============================] - 1s 20ms/step - loss: 0.6893 - accuracy: 0.5825 - val_loss: 0.6820 - val_accuracy: 0.6300\n",
      "Epoch 2/20\n",
      "25/25 [==============================] - 0s 8ms/step - loss: 0.6409 - accuracy: 0.8950 - val_loss: 0.6522 - val_accuracy: 0.7100\n",
      "Epoch 3/20\n",
      "25/25 [==============================] - 0s 8ms/step - loss: 0.5418 - accuracy: 0.9212 - val_loss: 0.5782 - val_accuracy: 0.7450\n",
      "Epoch 4/20\n",
      "25/25 [==============================] - 0s 8ms/step - loss: 0.3661 - accuracy: 0.9362 - val_loss: 0.4880 - val_accuracy: 0.7600\n",
      "Epoch 5/20\n",
      "25/25 [==============================] - 0s 8ms/step - loss: 0.1988 - accuracy: 0.9600 - val_loss: 0.4681 - val_accuracy: 0.7650\n",
      "Epoch 6/20\n",
      "25/25 [==============================] - 0s 8ms/step - loss: 0.1054 - accuracy: 0.9787 - val_loss: 0.5070 - val_accuracy: 0.7800\n",
      "Epoch 7/20\n",
      "25/25 [==============================] - 0s 8ms/step - loss: 0.0633 - accuracy: 0.9887 - val_loss: 0.5684 - val_accuracy: 0.7600\n",
      "Epoch 8/20\n",
      "25/25 [==============================] - 0s 8ms/step - loss: 0.0420 - accuracy: 0.9937 - val_loss: 0.5828 - val_accuracy: 0.7500\n",
      "Epoch 9/20\n",
      "25/25 [==============================] - 0s 8ms/step - loss: 0.0295 - accuracy: 0.9937 - val_loss: 0.6356 - val_accuracy: 0.7550\n",
      "Epoch 10/20\n",
      "25/25 [==============================] - 0s 10ms/step - loss: 0.0214 - accuracy: 0.9962 - val_loss: 0.6532 - val_accuracy: 0.7550\n",
      "Epoch 11/20\n",
      "25/25 [==============================] - 0s 11ms/step - loss: 0.0185 - accuracy: 0.9962 - val_loss: 0.6841 - val_accuracy: 0.7500\n",
      "Epoch 12/20\n",
      "25/25 [==============================] - 0s 10ms/step - loss: 0.0151 - accuracy: 0.9962 - val_loss: 0.7064 - val_accuracy: 0.7450\n",
      "Epoch 13/20\n",
      "25/25 [==============================] - 0s 11ms/step - loss: 0.0137 - accuracy: 0.9962 - val_loss: 0.7280 - val_accuracy: 0.7450\n",
      "Epoch 14/20\n",
      "25/25 [==============================] - 0s 8ms/step - loss: 0.0125 - accuracy: 0.9962 - val_loss: 0.7582 - val_accuracy: 0.7450\n",
      "Epoch 15/20\n",
      "25/25 [==============================] - 0s 8ms/step - loss: 0.0119 - accuracy: 0.9962 - val_loss: 0.7706 - val_accuracy: 0.7450\n",
      "Epoch 16/20\n",
      "25/25 [==============================] - 0s 8ms/step - loss: 0.0115 - accuracy: 0.9950 - val_loss: 0.7809 - val_accuracy: 0.7450\n",
      "Epoch 17/20\n",
      "25/25 [==============================] - 0s 9ms/step - loss: 0.0112 - accuracy: 0.9962 - val_loss: 0.8160 - val_accuracy: 0.7400\n",
      "Epoch 18/20\n",
      "25/25 [==============================] - 0s 8ms/step - loss: 0.0101 - accuracy: 0.9962 - val_loss: 0.8080 - val_accuracy: 0.7550\n",
      "Epoch 19/20\n",
      "25/25 [==============================] - 0s 9ms/step - loss: 0.0104 - accuracy: 0.9937 - val_loss: 0.8273 - val_accuracy: 0.7450\n",
      "Epoch 20/20\n",
      "25/25 [==============================] - 0s 8ms/step - loss: 0.0107 - accuracy: 0.9962 - val_loss: 0.8521 - val_accuracy: 0.7550\n"
     ]
    }
   ],
   "source": [
    "history_best = best_model.fit(X_train, y_train, epochs=20, validation_data=(X_test, y_test))"
   ]
  },
  {
   "cell_type": "code",
   "execution_count": 231,
   "id": "969a931a",
   "metadata": {},
   "outputs": [
    {
     "name": "stdout",
     "output_type": "stream",
     "text": [
      "7/7 [==============================] - 0s 5ms/step - loss: 0.8521 - accuracy: 0.7550\n",
      "Testing Accuracy is 75.49999952316284 \n"
     ]
    }
   ],
   "source": [
    "loss, accuracy = best_model.evaluate(X_test,y_test)\n",
    "print('Testing Accuracy is {} '.format(accuracy*100))"
   ]
  },
  {
   "cell_type": "markdown",
   "id": "058da6ba",
   "metadata": {},
   "source": [
    "# Plotting Accuracy"
   ]
  },
  {
   "cell_type": "code",
   "execution_count": 225,
   "id": "6a0915ad",
   "metadata": {},
   "outputs": [],
   "source": [
    "import seaborn as sns\n",
    "import matplotlib.pyplot as plt\n",
    "%matplotlib inline"
   ]
  },
  {
   "cell_type": "code",
   "execution_count": 206,
   "id": "b06ccdff",
   "metadata": {},
   "outputs": [
    {
     "data": {
      "text/plain": [
       "[]"
      ]
     },
     "execution_count": 206,
     "metadata": {},
     "output_type": "execute_result"
    },
    {
     "data": {
      "image/png": "[encoded data removed]",
      "text/plain": [
       "<Figure size 432x288 with 1 Axes>"
      ]
     },
     "metadata": {},
     "output_type": "display_data"
    }
   ],
   "source": [
    "sns.set()\n",
    "\n",
    "acc = history_best.history['accuracy']\n",
    "val = history_best.history['val_accuracy']\n",
    "epochs = range(1, len(acc) + 1)\n",
    "\n",
    "plt.plot(epochs, acc, '-', label='Training accuracy')\n",
    "plt.plot(epochs, val, ':', label='Validation accuracy')\n",
    "plt.title('Training and Validation Accuracy')\n",
    "plt.xlabel('Epoch')\n",
    "plt.ylabel('Accuracy')\n",
    "plt.legend(loc='lower right')\n",
    "plt.plot()\n"
   ]
  },
  {
   "cell_type": "markdown",
   "id": "15a37382",
   "metadata": {},
   "source": [
    "# predict\n",
    "Use test data and predict probability for each sample"
   ]
  },
  {
   "cell_type": "code",
   "execution_count": 243,
   "id": "df5ff153",
   "metadata": {},
   "outputs": [
    {
     "name": "stdout",
     "output_type": "stream",
     "text": [
      "7/7 [==============================] - 0s 4ms/step\n"
     ]
    }
   ],
   "source": [
    "y_pred=best_model.predict(X_test)[:][:]"
   ]
  },
  {
   "attachments": {
    "image.png": {
     "image/png": "[encoded data removed]"
    }
   },
   "cell_type": "markdown",
   "id": "617e36b7",
   "metadata": {},
   "source": [
    "# Confusion Matrix\n",
    "![image.png](attachment:image.png)"
   ]
  },
  {
   "cell_type": "code",
   "execution_count": 244,
   "id": "96f70783",
   "metadata": {
    "scrolled": true
   },
   "outputs": [
    {
     "name": "stdout",
     "output_type": "stream",
     "text": [
      "Confusion Matrix:\n",
      "[[75 30]\n",
      " [19 76]]\n"
     ]
    }
   ],
   "source": [
    "# Convert probabilities to binary predictions\n",
    "threshold = 0.5\n",
    "binary_predictions = np.where(y_pred >= threshold, 1, 0)\n",
    "\n",
    "# Calculate confusion matrix\n",
    "confusion = confusion_matrix(y_test, binary_predictions)\n",
    "\n",
    "print(\"Confusion Matrix:\")\n",
    "print(confusion)\n"
   ]
  },
  {
   "cell_type": "code",
   "execution_count": null,
   "id": "b84fc203",
   "metadata": {},
   "outputs": [],
   "source": []
  }
 ],
 "metadata": {
  "kernelspec": {
   "display_name": "Python 3 (ipykernel)",
   "language": "python",
   "name": "python3"
  },
  "language_info": {
   "codemirror_mode": {
    "name": "ipython",
    "version": 3
   },
   "file_extension": ".py",
   "mimetype": "text/x-python",
   "name": "python",
   "nbconvert_exporter": "python",
   "pygments_lexer": "ipython3",
   "version": "3.9.7"
  }
 },
 "nbformat": 4,
 "nbformat_minor": 5
}
